{
 "cells": [
  {
   "cell_type": "code",
   "execution_count": null,
   "metadata": {},
   "outputs": [],
   "source": [
    "import h5py\n",
    "import numpy as np\n",
    "import os\n",
    "from tqdm import tqdm\n",
    "import illustris_python as il\n",
    "import matplotlib.pyplot as plt\n",
    "import multiprocessing as mp\n",
    "\n",
    "basePath='./sims.TNG/TNG100-1/output'\n",
    "hdf5_File_Path = './APMS_TNG100_hdf5_z12'\n",
    "hdf5_files = [f for f in os.listdir(hdf5_File_Path) if f.endswith('.hdf5')]"
   ]
  },
  {
   "cell_type": "code",
   "execution_count": null,
   "metadata": {},
   "outputs": [],
   "source": [
    "with h5py.File(os.path.join(hdf5_File_Path, hdf5_files[0]), \"r\") as f:\n",
    "    for key in f.keys():\n",
    "        print(key, f[key].shape)"
   ]
  },
  {
   "cell_type": "code",
   "execution_count": null,
   "metadata": {},
   "outputs": [],
   "source": [
    "def Apply_Periodic_Boundary_Condition(Coordinates_Differences, Snapshots):\n",
    "    Modified_Differences=list()\n",
    "    for coordinate_difference, snapshot in zip(Coordinates_Differences, Snapshots):\n",
    "        scale_factor=il.groupcat.loadHeader(basePath, snapshot)['Time']\n",
    "        box_size=il.groupcat.loadHeader(basePath, snapshot)['BoxSize']\n",
    "        current_physical_box_size=box_size*scale_factor\n",
    "\n",
    "        if coordinate_difference[0]>current_physical_box_size/2:\n",
    "            coordinate_difference[0]-=current_physical_box_size\n",
    "        elif coordinate_difference[0]<-current_physical_box_size/2:\n",
    "            coordinate_difference[0]+=current_physical_box_size\n",
    "\n",
    "        if coordinate_difference[1]>current_physical_box_size/2:\n",
    "            coordinate_difference[1]-=current_physical_box_size\n",
    "        elif coordinate_difference[1]<-current_physical_box_size/2:\n",
    "            coordinate_difference[1]+=current_physical_box_size\n",
    "\n",
    "        if coordinate_difference[2]>current_physical_box_size/2:\n",
    "            coordinate_difference[2]-=current_physical_box_size\n",
    "        elif coordinate_difference[2]<-current_physical_box_size/2:\n",
    "            coordinate_difference[2]+=current_physical_box_size\n",
    "\n",
    "        Modified_Differences.append(coordinate_difference)\n",
    "\n",
    "    return np.array(Modified_Differences)"
   ]
  },
  {
   "cell_type": "code",
   "execution_count": null,
   "metadata": {},
   "outputs": [],
   "source": [
    "for file_name in tqdm(hdf5_files):\n",
    "    with h5py.File(os.path.join(hdf5_File_Path, file_name), \"r\") as f:\n",
    "        for key in f.keys():\n",
    "            globals()[key] = f[key][()]\n",
    "\n"
   ]
  },
  {
   "cell_type": "code",
   "execution_count": 38,
   "metadata": {},
   "outputs": [],
   "source": [
    "def Add_Modified_Distance(File_Path):\n",
    "    with h5py.File(File_Path, \"r\") as f:\n",
    "        modified_distance=Apply_Periodic_Boundary_Condition(f['MMSG_Position'][()]-f['Host_Position'][()], f['Snapshots'][()])\n",
    "\n",
    "    with h5py.File(File_Path, \"a\") as f:\n",
    "        if f.keys().__contains__('Modified_Distance'):\n",
    "            del f['Modified_Distance']\n",
    "        f.create_dataset('Modified_Difference', data=modified_distance)\n",
    "\n"
   ]
  },
  {
   "cell_type": "code",
   "execution_count": null,
   "metadata": {},
   "outputs": [],
   "source": [
    "for i in range(0,10):\n",
    "    Add_Modified_Distance(os.path.join(hdf5_File_Path, hdf5_files[i]))"
   ]
  },
  {
   "cell_type": "code",
   "execution_count": 39,
   "metadata": {},
   "outputs": [],
   "source": [
    "def Process_Subindex(Init_Subindex,End_Subindex):\n",
    "    for i in tqdm(range(Init_Subindex,End_Subindex)):\n",
    "        Add_Modified_Distance(os.path.join(hdf5_File_Path, hdf5_files[i]))"
   ]
  },
  {
   "cell_type": "code",
   "execution_count": 40,
   "metadata": {},
   "outputs": [],
   "source": [
    "num_processes=32\n",
    "subindex_list=np.linspace(0,len(hdf5_files),num_processes+1).astype(int)\n"
   ]
  },
  {
   "cell_type": "code",
   "execution_count": 41,
   "metadata": {},
   "outputs": [
    {
     "name": "stderr",
     "output_type": "stream",
     "text": [
      "  0%|          | 0/138 [00:00<?, ?it/s]"
     ]
    },
    {
     "name": "stderr",
     "output_type": "stream",
     "text": [
      "100%|██████████| 137/137 [01:29<00:00,  1.52it/s]\n",
      "100%|██████████| 137/137 [01:30<00:00,  1.52it/s]\n",
      "100%|██████████| 137/137 [01:30<00:00,  1.52it/s]\n",
      "100%|██████████| 137/137 [01:30<00:00,  1.52it/s]\n",
      "100%|██████████| 137/137 [01:30<00:00,  1.52it/s]\n",
      "100%|██████████| 137/137 [01:30<00:00,  1.52it/s]\n",
      "100%|██████████| 137/137 [01:30<00:00,  1.52it/s]\n",
      "100%|██████████| 137/137 [01:30<00:00,  1.52it/s]\n",
      "100%|██████████| 137/137 [01:30<00:00,  1.52it/s]\n",
      "100%|██████████| 137/137 [01:30<00:00,  1.52it/s]\n",
      "100%|██████████| 137/137 [01:30<00:00,  1.52it/s]\n",
      "100%|██████████| 138/138 [01:30<00:00,  1.53it/s]\n",
      "100%|██████████| 137/137 [01:30<00:00,  1.52it/s]\n",
      "100%|██████████| 137/137 [01:30<00:00,  1.51it/s]\n",
      "100%|██████████| 137/137 [01:30<00:00,  1.51it/s]\n",
      "100%|██████████| 138/138 [01:30<00:00,  1.52it/s]\n",
      "100%|██████████| 138/138 [01:30<00:00,  1.52it/s]\n",
      "100%|██████████| 138/138 [01:30<00:00,  1.52it/s]\n",
      "100%|██████████| 138/138 [01:30<00:00,  1.52it/s]\n",
      "100%|██████████| 138/138 [01:30<00:00,  1.52it/s]\n",
      "100%|██████████| 137/137 [01:31<00:00,  1.50it/s]\n",
      "100%|██████████| 138/138 [01:31<00:00,  1.51it/s]\n",
      "100%|██████████| 137/137 [01:31<00:00,  1.49it/s]\n",
      "100%|██████████| 137/137 [01:31<00:00,  1.49it/s]\n",
      "100%|██████████| 137/137 [01:31<00:00,  1.49it/s]\n",
      "100%|██████████| 137/137 [01:31<00:00,  1.49it/s]\n",
      "100%|██████████| 137/137 [01:31<00:00,  1.49it/s]\n",
      "100%|██████████| 138/138 [01:31<00:00,  1.50it/s]\n",
      "100%|██████████| 138/138 [01:32<00:00,  1.50it/s]\n",
      "100%|██████████| 138/138 [01:32<00:00,  1.50it/s]\n",
      "100%|██████████| 138/138 [01:32<00:00,  1.49it/s]\n",
      "100%|██████████| 138/138 [01:32<00:00,  1.49it/s]\n"
     ]
    }
   ],
   "source": [
    "Processes=list()\n",
    "for i in range(0,num_processes):\n",
    "    Processes.append(mp.Process(target=Process_Subindex, args=(subindex_list[i],subindex_list[i+1])))\n",
    "    Processes[-1].start()\n",
    "\n",
    "for process in Processes:\n",
    "    process.join()\n"
   ]
  },
  {
   "cell_type": "code",
   "execution_count": 31,
   "metadata": {},
   "outputs": [],
   "source": []
  },
  {
   "cell_type": "code",
   "execution_count": 36,
   "metadata": {},
   "outputs": [],
   "source": []
  },
  {
   "cell_type": "code",
   "execution_count": 44,
   "metadata": {},
   "outputs": [
    {
     "name": "stdout",
     "output_type": "stream",
     "text": [
      "(4, 3)\n"
     ]
    },
    {
     "data": {
      "image/png": "[encoded data removed]",
      "text/plain": [
       "<Figure size 640x480 with 1 Axes>"
      ]
     },
     "metadata": {},
     "output_type": "display_data"
    }
   ],
   "source": [
    "with h5py.File(os.path.join(hdf5_File_Path, hdf5_files[2]), \"r\") as f:\n",
    "    print(Extremum_Num(np.sqrt(np.sum(f['Modified_Difference'][()]**2,axis=1))))\n",
    "    plt.plot(np.sqrt(np.sum(f['Modified_Difference'][()]**2,axis=1)),'.')"
   ]
  },
  {
   "cell_type": "code",
   "execution_count": null,
   "metadata": {},
   "outputs": [],
   "source": []
  }
 ],
 "metadata": {
  "kernelspec": {
   "display_name": "Python 3 (ipykernel)",
   "language": "python",
   "name": "python3"
  }
 },
 "nbformat": 4,
 "nbformat_minor": 2
}
