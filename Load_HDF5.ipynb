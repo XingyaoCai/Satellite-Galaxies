{
 "cells": [
  {
   "cell_type": "code",
   "execution_count": null,
   "metadata": {},
   "outputs": [],
   "source": [
    "import h5py\n",
    "import numpy as np\n",
    "import os\n",
    "from tqdm import tqdm\n",
    "import illustris_python as il\n",
    "import matplotlib.pyplot as plt\n",
    "import multiprocessing as mp\n",
    "\n",
    "basePath='./sims.TNG/TNG100-1/output'\n",
    "hdf5_File_Path = './APMS_TNG100_hdf5_z12'\n",
    "hdf5_files = [f for f in os.listdir(hdf5_File_Path) if f.endswith('.hdf5')]"
   ]
  },
  {
   "cell_type": "code",
   "execution_count": null,
   "metadata": {},
   "outputs": [],
   "source": [
    "def Extremum_Num(Input_Array):\n",
    "    maximum_index=list()\n",
    "    minimum_index=list()\n",
    "    for i in range(1,Input_Array.shape[0]-1):\n",
    "        if Input_Array[i]>Input_Array[i-1] and Input_Array[i]>Input_Array[i+1]:\n",
    "            maximum_index.append(i)\n",
    "        elif Input_Array[i]<Input_Array[i-1] and Input_Array[i]<Input_Array[i+1]:\n",
    "            minimum_index.append(i)\n",
    "        elif np.isnan(Input_Array[i]):\n",
    "            if (i>=2)&i<=Input_Array.shape[0]-3:\n",
    "                left_index=i-1\n",
    "                while(1):\n",
    "                    if np.isnan(Input_Array[left_index]):\n",
    "                        left_index-=1\n",
    "                    else:\n",
    "                        break\n",
    "                right_index=i+1\n",
    "                while(1):\n",
    "                    if np.isnan(Input_Array[right_index]):\n",
    "                        right_index+=1\n",
    "                    else:\n",
    "                        break\n",
    "                if(left_index<1):left_index=1\n",
    "                if(right_index>Input_Array.shape[0]-2):right_index=Input_Array.shape[0]-2\n",
    "\n",
    "                left_difference=Input_Array[left_index]-Input_Array[left_index-1]\n",
    "                right_difference=Input_Array[right_index]-Input_Array[right_index+1]\n",
    "                if left_difference>0 and right_difference>0:\n",
    "                    maximum_index.append(i)\n",
    "                elif left_difference<0 and right_difference<0:\n",
    "                    minimum_index.append(i)\n",
    "                else:continue\n",
    "\n",
    "    return np.array(maximum_index),np.array(minimum_index)\n"
   ]
  },
  {
   "cell_type": "code",
   "execution_count": 36,
   "metadata": {},
   "outputs": [
    {
     "name": "stderr",
     "output_type": "stream",
     "text": [
      "100%|██████████| 4396/4396 [00:05<00:00, 741.45it/s]"
     ]
    },
    {
     "name": "stdout",
     "output_type": "stream",
     "text": [
      "591\n",
      "240\n"
     ]
    },
    {
     "name": "stderr",
     "output_type": "stream",
     "text": [
      "\n"
     ]
    }
   ],
   "source": [
    "first_infall_indices=list()\n",
    "first_approach_indices=list()\n",
    "for file_name in tqdm(hdf5_files):\n",
    "    with h5py.File(os.path.join(hdf5_File_Path, file_name), \"r\") as f:\n",
    "        init_subindex=np.where(f['Snapshots'][()]==50)[0][0]\n",
    "        distance  = np.sqrt(np.sum(f['Modified_Difference'][()]**2,axis=1))[init_subindex:]\n",
    "        max_indices,min_indices=Extremum_Num(distance)\n",
    "\n",
    "        global_max=np.nanargmax(distance[init_subindex:])\n",
    "        global_min=np.nanargmin(distance[init_subindex:])\n",
    "\n",
    "        change=distance[global_max]-distance[global_min]\n",
    "        ratio=0.08\n",
    "        change_limit=(change*ratio)\n",
    "\n",
    "        extreme_indices=np.sort(np.concatenate((max_indices,min_indices)))\n",
    "        to_del=list()\n",
    "        skip=False\n",
    "        for i in range(0,extreme_indices.shape[0]-1):\n",
    "            if skip:\n",
    "                skip=False\n",
    "                continue\n",
    "            if abs(distance[extreme_indices[i+1]]-distance[extreme_indices[i]])<change_limit:\n",
    "                to_del.append(i)\n",
    "                to_del.append(i+1)\n",
    "                skip=True\n",
    "        extreme_indices=np.delete(extreme_indices,to_del).astype(int)\n",
    "        if (len(extreme_indices)<2)&(distance[-1]>distance[-2]):\n",
    "            halo_index=file_name[5:9]\n",
    "\n",
    "            if halo_index[-1]=='.':\n",
    "                halo_index=halo_index[:-1]\n",
    "            halo_index=int(halo_index)\n",
    "            first_infall_indices.append(halo_index)\n",
    "        if(len(extreme_indices)<1)&(distance[-1]<distance[-2]):\n",
    "            halo_index=file_name[5:9]\n",
    "            if halo_index[-1]=='.':\n",
    "                halo_index=halo_index[:-1]\n",
    "            halo_index=int(halo_index)\n",
    "            first_approach_indices.append(halo_index)\n",
    "    #plt.scatter(f['Snapshots'][()][global_max],np.sqrt(np.sum(f['Modified_Difference'][()][global_max]**2)),c='r')\n",
    "    #plt.scatter(f['Snapshots'][()][global_min],np.sqrt(np.sum(f['Modified_Difference'][()][global_min]**2)),c='b')\n",
    "print(len(first_infall_indices))\n",
    "print(len(first_approach_indices))"
   ]
  },
  {
   "cell_type": "code",
   "execution_count": null,
   "metadata": {},
   "outputs": [],
   "source": []
  }
 ],
 "metadata": {
  "kernelspec": {
   "display_name": "Python 3 (ipykernel)",
   "language": "python",
   "name": "python3"
  },
  "language_info": {
   "codemirror_mode": {
    "name": "ipython",
    "version": 3
   },
   "file_extension": ".py",
   "mimetype": "text/x-python",
   "name": "python",
   "nbconvert_exporter": "python",
   "pygments_lexer": "ipython3",
   "version": "3.11.4"
  }
 },
 "nbformat": 4,
 "nbformat_minor": 2
}
