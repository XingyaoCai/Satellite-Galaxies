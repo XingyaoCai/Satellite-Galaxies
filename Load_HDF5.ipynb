{
 "cells": [
  {
   "cell_type": "code",
   "execution_count": 1,
   "metadata": {},
   "outputs": [],
   "source": [
    "import h5py\n",
    "import numpy as np\n",
    "import os\n",
    "from tqdm import tqdm\n",
    "import illustris_python as il\n",
    "import matplotlib.pyplot as plt\n",
    "import multiprocessing as mp\n",
    "\n",
    "basePath = './sims.TNG/TNG100-1/output'\n",
    "hdf5_File_Path = './APMS_TNG100_hdf5_z12'\n",
    "hdf5_files = [f for f in os.listdir(hdf5_File_Path) if f.endswith('.hdf5')]\n",
    "with h5py.File(os.path.join(hdf5_File_Path, hdf5_files[0]), 'r') as file:\n",
    "    # 获取文件中的 keys\n",
    "    hdf5_keys = list(file.keys())"
   ]
  },
  {
   "cell_type": "code",
   "execution_count": 2,
   "metadata": {},
   "outputs": [],
   "source": [
    "def Extremum_Num(Input_Array):\n",
    "    maximum_index = list()\n",
    "    minimum_index = list()\n",
    "    for i in range(1, Input_Array.shape[0]-1):\n",
    "        if Input_Array[i] > Input_Array[i-1] and Input_Array[i] > Input_Array[i+1]:\n",
    "            maximum_index.append(i)\n",
    "        elif Input_Array[i] < Input_Array[i-1] and Input_Array[i] < Input_Array[i+1]:\n",
    "            minimum_index.append(i)\n",
    "        elif np.isnan(Input_Array[i]):\n",
    "            if (i >= 2) & i <= Input_Array.shape[0]-3:\n",
    "                left_index = i-1\n",
    "                while (1):\n",
    "                    if np.isnan(Input_Array[left_index]):\n",
    "                        left_index -= 1\n",
    "                    else:\n",
    "                        break\n",
    "                right_index = i+1\n",
    "                while (1):\n",
    "                    if np.isnan(Input_Array[right_index]):\n",
    "                        right_index += 1\n",
    "                    else:\n",
    "                        break\n",
    "                if (left_index < 1):\n",
    "                    left_index = 1\n",
    "                if (right_index > Input_Array.shape[0]-2):\n",
    "                    right_index = Input_Array.shape[0]-2\n",
    "\n",
    "                left_difference = Input_Array[left_index] - \\\n",
    "                    Input_Array[left_index-1]\n",
    "                right_difference = Input_Array[right_index] - \\\n",
    "                    Input_Array[right_index+1]\n",
    "                if left_difference > 0 and right_difference > 0:\n",
    "                    maximum_index.append(i)\n",
    "                elif left_difference < 0 and right_difference < 0:\n",
    "                    minimum_index.append(i)\n",
    "                else:\n",
    "                    continue\n",
    "\n",
    "    return np.array(maximum_index), np.array(minimum_index)"
   ]
  },
  {
   "cell_type": "code",
   "execution_count": 3,
   "metadata": {},
   "outputs": [
    {
     "name": "stderr",
     "output_type": "stream",
     "text": [
      "100%|██████████| 4396/4396 [00:45<00:00, 97.29it/s] "
     ]
    },
    {
     "name": "stdout",
     "output_type": "stream",
     "text": [
      "234\n",
      "100\n"
     ]
    },
    {
     "name": "stderr",
     "output_type": "stream",
     "text": [
      "\n"
     ]
    }
   ],
   "source": [
    "first_infall_indices = list()\n",
    "first_approach_indices = list()\n",
    "\n",
    "for key in hdf5_keys:\n",
    "    globals()[key] = list()\n",
    "\n",
    "for file_name in tqdm(hdf5_files):\n",
    "    with h5py.File(os.path.join(hdf5_File_Path, file_name), \"r\") as f:\n",
    "        for key in hdf5_keys:\n",
    "            globals()[key].append(f[key][()])\n",
    "        init_subindex = np.where(f['Snapshots'][()] == 40)[0][0]\n",
    "        distance = np.sqrt(\n",
    "            np.sum(f['Modified_Difference'][()]**2, axis=1))[init_subindex:]\n",
    "        max_indices, min_indices = Extremum_Num(distance)\n",
    "\n",
    "        global_max = np.nanargmax(distance[init_subindex:])\n",
    "        global_min = np.nanargmin(distance[init_subindex:])\n",
    "\n",
    "        change = distance[global_max]-distance[global_min]\n",
    "        ratio = 0.08\n",
    "        change_limit = (change*ratio)\n",
    "\n",
    "        extreme_indices = np.sort(np.concatenate((max_indices, min_indices)))\n",
    "        to_del = list()\n",
    "        skip = False\n",
    "        for i in range(0, extreme_indices.shape[0]-1):\n",
    "            if skip:\n",
    "                skip = False\n",
    "                continue\n",
    "            if abs(distance[extreme_indices[i+1]]-distance[extreme_indices[i]]) < change_limit:\n",
    "                to_del.append(i)\n",
    "                to_del.append(i+1)\n",
    "                skip = True\n",
    "        extreme_indices = np.delete(extreme_indices, to_del).astype(int)\n",
    "        if (len(extreme_indices) < 2) & (distance[-1] > distance[-2]):\n",
    "            halo_index = file_name[5:9]\n",
    "\n",
    "            if halo_index[-1] == '.':\n",
    "                halo_index = halo_index[:-1]\n",
    "            halo_index = int(halo_index)\n",
    "            first_infall_indices.append(halo_index)\n",
    "        if (len(extreme_indices) < 1) & (distance[-1] < distance[-2]):\n",
    "            halo_index = file_name[5:9]\n",
    "            if halo_index[-1] == '.':\n",
    "                halo_index = halo_index[:-1]\n",
    "            halo_index = int(halo_index)\n",
    "            first_approach_indices.append(halo_index)\n",
    "    # plt.scatter(f['Snapshots'][()][global_max],np.sqrt(np.sum(f['Modified_Difference'][()][global_max]**2)),c='r')\n",
    "    # plt.scatter(f['Snapshots'][()][global_min],np.sqrt(np.sum(f['Modified_Difference'][()][global_min]**2)),c='b')\n",
    "print(len(first_infall_indices))\n",
    "print(len(first_approach_indices))"
   ]
  },
  {
   "cell_type": "code",
   "execution_count": null,
   "metadata": {},
   "outputs": [],
   "source": [
    "for key in hdf5_keys:\n",
    "    globals()['first_infall_'+key] = list()\n",
    "    globals()['first_approach_'+key] = list()\n",
    "for index in tqdm(first_infall_indices):\n",
    "    file_name = 'Halo-'+str(index)+'.hdf5'\n",
    "    with h5py.File(os.path.join(hdf5_File_Path, file_name), \"r\") as f:\n",
    "        for key in hdf5_keys:\n",
    "            globals()['first_infall_'+key].append(f[key][()])\n",
    "for index in tqdm(first_approach_indices):\n",
    "    file_name = 'Halo-'+str(index)+'.hdf5'\n",
    "    with h5py.File(os.path.join(hdf5_File_Path, file_name), \"r\") as f:\n",
    "        for key in hdf5_keys:\n",
    "            globals()['first_approach_'+key].append(f[key][()])"
   ]
  },
  {
   "cell_type": "code",
   "execution_count": 5,
   "metadata": {},
   "outputs": [
    {
     "name": "stderr",
     "output_type": "stream",
     "text": [
      "100%|██████████| 4396/4396 [00:27<00:00, 159.86it/s]"
     ]
    },
    {
     "name": "stdout",
     "output_type": "stream",
     "text": [
      "265\n",
      "138\n"
     ]
    },
    {
     "name": "stderr",
     "output_type": "stream",
     "text": [
      "\n"
     ]
    }
   ],
   "source": [
    "first_infall_indices_02 = list()\n",
    "first_approach_indices_02 = list()\n",
    "\n",
    "for key in hdf5_keys:\n",
    "    globals()[key] = list()\n",
    "\n",
    "for file_name in tqdm(hdf5_files):\n",
    "    with h5py.File(os.path.join(hdf5_File_Path, file_name), \"r\") as f:\n",
    "        for key in hdf5_keys:\n",
    "            globals()[key].append(f[key][()])\n",
    "        init_subindex = np.where(f['Snapshots'][()] == 40)[0][0]\n",
    "        distance = np.sqrt(\n",
    "            np.sum(f['Modified_Difference'][()]**2, axis=1))[init_subindex:]\n",
    "        max_indices, min_indices = Extremum_Num(distance)\n",
    "\n",
    "        global_max = np.nanargmax(distance[init_subindex:])\n",
    "        global_min = np.nanargmin(distance[init_subindex:])\n",
    "\n",
    "        change = distance[global_max]-distance[global_min]\n",
    "        ratio = 0.2\n",
    "        change_limit = (change*ratio)\n",
    "\n",
    "        extreme_indices = np.sort(np.concatenate((max_indices, min_indices)))\n",
    "        to_del = list()\n",
    "        skip = False\n",
    "        for i in range(0, extreme_indices.shape[0]-1):\n",
    "            if skip:\n",
    "                skip = False\n",
    "                continue\n",
    "            if abs(distance[extreme_indices[i+1]]-distance[extreme_indices[i]]) < change_limit:\n",
    "                to_del.append(i)\n",
    "                to_del.append(i+1)\n",
    "                skip = True\n",
    "        extreme_indices = np.delete(extreme_indices, to_del).astype(int)\n",
    "        if (len(extreme_indices) < 2) & (distance[-1] > distance[-2]):\n",
    "            halo_index = file_name[5:9]\n",
    "\n",
    "            if halo_index[-1] == '.':\n",
    "                halo_index = halo_index[:-1]\n",
    "            halo_index = int(halo_index)\n",
    "            first_infall_indices_02.append(halo_index)\n",
    "        if (len(extreme_indices) < 1) & (distance[-1] < distance[-2]):\n",
    "            halo_index = file_name[5:9]\n",
    "            if halo_index[-1] == '.':\n",
    "                halo_index = halo_index[:-1]\n",
    "            halo_index = int(halo_index)\n",
    "            first_approach_indices_02.append(halo_index)\n",
    "    # plt.scatter(f['Snapshots'][()][global_max],np.sqrt(np.sum(f['Modified_Difference'][()][global_max]**2)),c='r')\n",
    "    # plt.scatter(f['Snapshots'][()][global_min],np.sqrt(np.sum(f['Modified_Difference'][()][global_min]**2)),c='b')\n",
    "print(len(first_infall_indices_02))\n",
    "print(len(first_approach_indices_02))"
   ]
  },
  {
   "cell_type": "code",
   "execution_count": 7,
   "metadata": {},
   "outputs": [
    {
     "name": "stderr",
     "output_type": "stream",
     "text": [
      "100%|██████████| 265/265 [00:01<00:00, 210.52it/s]\n",
      "100%|██████████| 138/138 [00:00<00:00, 222.68it/s]\n"
     ]
    }
   ],
   "source": [
    "for key in hdf5_keys:\n",
    "    globals()['first_infall_02_'+key] = list()\n",
    "    globals()['first_approach_02_'+key] = list()\n",
    "for index in tqdm(first_infall_indices_02):\n",
    "    file_name = 'Halo-'+str(index)+'.hdf5'\n",
    "    with h5py.File(os.path.join(hdf5_File_Path, file_name), \"r\") as f:\n",
    "        for key in hdf5_keys:\n",
    "            globals()['first_infall_02_'+key].append(f[key][()])\n",
    "for index in tqdm(first_approach_indices_02):\n",
    "    file_name = 'Halo-'+str(index)+'.hdf5'\n",
    "    with h5py.File(os.path.join(hdf5_File_Path, file_name), \"r\") as f:\n",
    "        for key in hdf5_keys:\n",
    "            globals()['first_approach_02_'+key].append(f[key][()])"
   ]
  },
  {
   "cell_type": "code",
   "execution_count": 8,
   "metadata": {},
   "outputs": [],
   "source": [
    "for key in hdf5_keys:\n",
    "    globals()['first_infall_'+key] = np.array(globals()['first_infall_'+key])\n",
    "    globals()['first_approach_'+key] = np.array(globals()\n",
    "                                                ['first_approach_'+key])\n",
    "    globals()[key] = np.array(globals()[key])"
   ]
  },
  {
   "cell_type": "code",
   "execution_count": 11,
   "metadata": {},
   "outputs": [],
   "source": [
    "for key in hdf5_keys:\n",
    "    globals()['first_infall_02_'+key] = np.array(globals()['first_infall_02_'+key])\n",
    "    globals()['first_approach_02_'+key] = np.array(globals()\n",
    "                                                ['first_approach_02_'+key])"
   ]
  },
  {
   "cell_type": "code",
   "execution_count": 12,
   "metadata": {},
   "outputs": [],
   "source": [
    "from scipy.stats import ks_2samp"
   ]
  },
  {
   "cell_type": "code",
   "execution_count": 7,
   "metadata": {},
   "outputs": [
    {
     "data": {
      "text/plain": [
       "['Distance',\n",
       " 'Halo_Index',\n",
       " 'Halo_Index_0',\n",
       " 'Host_Index',\n",
       " 'Host_Index_0',\n",
       " 'Host_Mass',\n",
       " 'Host_MassType',\n",
       " 'Host_Position',\n",
       " 'Host_Velocity',\n",
       " 'MMSG_Index',\n",
       " 'MMSG_Index_0',\n",
       " 'MMSG_Mass',\n",
       " 'MMSG_MassType',\n",
       " 'MMSG_Position',\n",
       " 'MMSG_Velocity',\n",
       " 'Modified_Difference',\n",
       " 'Radial_Velocity',\n",
       " 'Snapshots',\n",
       " 'Virial_Radius']"
      ]
     },
     "execution_count": 7,
     "metadata": {},
     "output_type": "execute_result"
    }
   ],
   "source": [
    "hdf5_keys"
   ]
  },
  {
   "cell_type": "code",
   "execution_count": 115,
   "metadata": {},
   "outputs": [
    {
     "data": {
      "image/png": "[encoded data removed]",
      "text/plain": [
       "<Figure size 2000x1600 with 1 Axes>"
      ]
     },
     "metadata": {},
     "output_type": "display_data"
    }
   ],
   "source": [
    "bins = 10\n",
    "plt.figure(figsize=(20, 16))\n",
    "plt.hist([first_infall_MMSG_Mass[:, -1]/first_infall_Host_Mass[:, -1], first_approach_MMSG_Mass[:, -1]/first_approach_Host_Mass[:, -1], MMSG_Mass[:, -1] /\n",
    "         Host_Mass[:, -1]], bins=bins, label=['First Infall', 'First Approach', 'All'], density=True, alpha=0.3, color=['r', 'y', 'b'], edgecolor='black')\n",
    "plt.title('Mass Ratio Distribution', usetex=True, fontsize=30)\n",
    "plt.xlabel('Mass Ratio [Satellite Mass/Host Mass]', usetex=True, fontsize=24)\n",
    "plt.ylabel('Probability Density', usetex=True, fontsize=24)\n",
    "plt.legend()\n",
    "for legend in plt.legend().get_texts():\n",
    "    legend.set_fontsize(20)\n",
    "    legend.set_color('black')\n",
    "    legend.usetex = True"
   ]
  },
  {
   "cell_type": "code",
   "execution_count": 125,
   "metadata": {},
   "outputs": [
    {
     "name": "stdout",
     "output_type": "stream",
     "text": [
      "First Infall Host Mass Ratio KS Test [stat=0.06593212166460574],[p=0.2760887839247301]\n",
      "First Approach Host Mass Ratio KS Test [stat=0.0970154686078253],[p=0.29636900112931774]\n",
      "First Infall MMSG Mass KS Test [stat=0.12217983714799001],[p=0.002381092230812639]\n",
      "First Approach MMSG Mass KS Test [stat=0.16550500454959052],[p=0.008257615167646504]\n",
      "First Infall Mass Ratio KS Test [stat=0.136120249177574],[p=0.0004713459801730008]\n",
      "First Approach Mass Ratio KS Test [stat=0.18708826205641493],[p=0.0018052290792944258]\n"
     ]
    }
   ],
   "source": [
    "print('First Infall Host Mass Ratio KS Test ', end='')\n",
    "print(f'[stat={ks_2samp(first_infall_Host_Mass[:,-1],Host_Mass[:,-1])[0]}],[p={ks_2samp(first_infall_Host_Mass[:,-1],Host_Mass[:,-1])[1]}]')\n",
    "print('First Approach Host Mass Ratio KS Test ', end='')\n",
    "print(f'[stat={ks_2samp(first_approach_Host_Mass[:,-1],Host_Mass[:,-1])[0]}],[p={ks_2samp(first_approach_Host_Mass[:,-1],Host_Mass[:,-1])[1]}]')\n",
    "\n",
    "print('First Infall MMSG Mass KS Test ', end='')\n",
    "print(f'[stat={ks_2samp(first_infall_MMSG_Mass[:,-1],MMSG_Mass[:,-1])[0]}],[p={ks_2samp(first_infall_MMSG_Mass[:,-1],MMSG_Mass[:,-1])[1]}]')\n",
    "print('First Approach MMSG Mass KS Test ', end='')\n",
    "print(f'[stat={ks_2samp(first_approach_MMSG_Mass[:,-1],MMSG_Mass[:,-1])[0]}],[p={ks_2samp(first_approach_MMSG_Mass[:,-1],MMSG_Mass[:,-1])[1]}]')\n",
    "\n",
    "print('First Infall Mass Ratio KS Test ', end='')\n",
    "print(f'[stat={ks_2samp(first_infall_MMSG_Mass[:,-1]/first_infall_Host_Mass[:,-1],MMSG_Mass[:,-1]/Host_Mass[:,-1])[0]}],[p={ks_2samp(first_infall_MMSG_Mass[:,-1]/first_infall_Host_Mass[:,-1],MMSG_Mass[:,-1]/Host_Mass[:,-1])[1]}]')\n",
    "print('First Approach Mass Ratio KS Test ', end='')\n",
    "print(f'[stat={ks_2samp(first_approach_MMSG_Mass[:,-1]/first_approach_Host_Mass[:,-1],MMSG_Mass[:,-1]/Host_Mass[:,-1])[0]}],[p={ks_2samp(first_approach_MMSG_Mass[:,-1]/first_approach_Host_Mass[:,-1],MMSG_Mass[:,-1]/Host_Mass[:,-1])[1]}]')"
   ]
  },
  {
   "cell_type": "code",
   "execution_count": null,
   "metadata": {},
   "outputs": [
    {
     "ename": "",
     "evalue": "",
     "output_type": "error",
     "traceback": [
      "\u001b[1;31mFailed to connect to the remote Jupyter Server 'https://data-eu.tng-project.org/'. Verify the server is running and reachable. (Failed to connect to the remote Jupyter Server 'https://data-eu.tng-project.org/'. Verify the server is running and reachable. (request to https://data-eu.tng-project.org/lab/user/3200100276@zju.edu.cn/api/kernels?1704033476483 failed, reason: connect ETIMEDOUT 130.183.17.94:443).)."
     ]
    }
   ],
   "source": [
    "print('First Infall vs First Approach Host Mass ', end='')\n",
    "print(f'[stat={ks_2samp(first_infall_Host_Mass[:,-1],first_approach_Host_Mass[:,-1])[0]}],[p={ks_2samp(first_infall_Host_Mass[:,-1],first_approach_Host_Mass[:,-1])[1]}]')\n",
    "print('First Infall vs First Approach MMSG Mass ', end='')\n",
    "print(f'[stat={ks_2samp(first_infall_MMSG_Mass[:,-1],first_approach_MMSG_Mass[:,-1])[0]}],[p={ks_2samp(first_infall_MMSG_Mass[:,-1],first_approach_MMSG_Mass[:,-1])[1]}]')\n",
    "print('First Infall vs First Approach Mass Ratio ', end='')\n",
    "print(f'[stat={ks_2samp(first_infall_MMSG_Mass[:,-1]/first_infall_Host_Mass[:,-1],first_approach_MMSG_Mass[:,-1]/first_approach_Host_Mass[:,-1])[0]}],[p={ks_2samp(first_infall_MMSG_Mass[:,-1]/first_infall_Host_Mass[:,-1],first_approach_MMSG_Mass[:,-1]/first_approach_Host_Mass[:,-1])[1]}]')"
   ]
  },
  {
   "cell_type": "code",
   "execution_count": 10,
   "metadata": {},
   "outputs": [
    {
     "name": "stdout",
     "output_type": "stream",
     "text": [
      "[stat=0.0758974358974359],[p=0.7797761655463683]\n"
     ]
    }
   ],
   "source": []
  },
  {
   "cell_type": "code",
   "execution_count": 16,
   "metadata": {},
   "outputs": [
    {
     "name": "stdout",
     "output_type": "stream",
     "text": [
      "[stat=0.0711912014875183],[p=0.48387216965872]\n"
     ]
    }
   ],
   "source": [
    "print(f'[stat={ks_2samp(first_approach_02_Host_Mass[:,-1],Host_Mass[:,-1])[0]}],[p={ks_2samp(first_approach_02_Host_Mass[:,-1],Host_Mass[:,-1])[1]}]')\n",
    "print(f'[stat={ks_2samp(first_approach_02_MMSG_Mass[:,-1],MMSG_Mass[:,-1])[0]}],[p={ks_2samp(first_approach_02_MMSG_Mass[:,-1],MMSG_Mass[:,-1])[1]}]')"
   ]
  },
  {
   "cell_type": "code",
   "execution_count": 17,
   "metadata": {},
   "outputs": [
    {
     "name": "stdout",
     "output_type": "stream",
     "text": [
      "[stat=0.17139758146404505],[p=0.0006595205175909961]\n"
     ]
    }
   ],
   "source": []
  },
  {
   "cell_type": "code",
   "execution_count": null,
   "metadata": {},
   "outputs": [],
   "source": []
  }
 ],
 "metadata": {
  "kernelspec": {
   "display_name": "Python 3 (ipykernel)",
   "language": "python",
   "name": "python3"
  },
  "language_info": {
   "codemirror_mode": {
    "name": "ipython",
    "version": 3
   },
   "file_extension": ".py",
   "mimetype": "text/x-python",
   "name": "python",
   "nbconvert_exporter": "python",
   "pygments_lexer": "ipython3",
   "version": "3.11.4"
  }
 },
 "nbformat": 4,
 "nbformat_minor": 2
}
