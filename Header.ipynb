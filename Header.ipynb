{
 "cells": [
  {
   "cell_type": "code",
   "execution_count": 2,
   "metadata": {},
   "outputs": [],
   "source": [
    "import os\n",
    "import gc\n",
    "from tqdm import tqdm\n",
    "import illustris_python as il\n",
    "import numpy as np\n",
    "import matplotlib.pyplot as plt\n",
    "import matplotlib as mpl\n",
    "from mpl_toolkits import mplot3d\n",
    "import math\n",
    "\n",
    "# %matplotlib widget\n",
    "basePath = \"./sims.TNG/TNG100-1/output\"\n",
    "\n",
    "initial_snapshot = 69\n",
    "end_snapshot = 99\n",
    "\n",
    "halos_fields = [\"GroupFirstSub\", \"GroupNsubs\", \"GroupMass\", \"GroupPos\"]\n",
    "subhalos_fields = [\"SubhaloGrNr\", \"SubhaloMass\", \"SubhaloPos\"]\n",
    "tree_fields = [\"SubfindID\", \"SnapNum\"]\n",
    "\n",
    "h = 0.6774  # km/Mpc\n",
    "\n",
    "m_dm = 4.5e-5  # E10M_Sum\n",
    "m_dm_h = m_dm * h\n",
    "\n",
    "Critial_Density = 1.27e-8  # E10M_Sum/kpc^3\n",
    "Critial_Density_h = Critial_Density / h**2  # E10M_Sum/(kpc/h)^3\n",
    "\n",
    "def Detect_Mkdir(Path):\n",
    "    if not (os.path.exists(Path)):\n",
    "        os.makedirs(Path)\n",
    "    return Path\n",
    "\n",
    "FilePath = Detect_Mkdir(os.path.join('./TNG100_Final_File'))\n",
    "Final_File_List = ['Halo_Array', 'Host_Array', 'MMS_Array', 'First_App_Snap_Array', 'First_App_Distance_Array',\n",
    "                   'Snap99_Distance_Array', 'Snap99_Radial_Velocity_Array', 'Snap99_Virial_Radius_Array', 'Is_First_Approach','Is_First_Infall']\n",
    "for filename in Final_File_List:\n",
    "    if os.path.exists(os.path.join(FilePath, filename)+'.npy'):\n",
    "        globals()[filename] = np.load(\n",
    "            (os.path.join(FilePath, filename)+'.npy'))\n"
   ]
  },
  {
   "cell_type": "code",
   "execution_count": null,
   "metadata": {},
   "outputs": [],
   "source": []
  }
 ],
 "metadata": {
  "kernelspec": {
   "display_name": "Python 3 (ipykernel)",
   "language": "python",
   "name": "python3"
  }
 },
 "nbformat": 4,
 "nbformat_minor": 2
}
