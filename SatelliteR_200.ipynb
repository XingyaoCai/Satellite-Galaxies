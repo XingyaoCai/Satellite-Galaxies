{
 "cells": [
  {
   "cell_type": "code",
   "execution_count": 1,
   "metadata": {},
   "outputs": [],
   "source": [
    "import illustris_python as il\n",
    "import numpy as np\n",
    "import matplotlib.pyplot as plt\n",
    "import matplotlib as mpl\n",
    "import FunctionLib\n",
    "import math\n",
    "#%matplotlib widget\n",
    "basePath ='./sims.TNG/TNG50-1/output'\n",
    "from tqdm import tqdm\n",
    "import gc\n",
    "import os"
   ]
  },
  {
   "cell_type": "code",
   "execution_count": 3,
   "metadata": {},
   "outputs": [],
   "source": [
    "basePath = './sims.TNG/TNG50-1/output'\n",
    "initial_snapshot = 84\n",
    "end_snapshot = 99\n",
    "h=0.6774\n",
    "Critial_Density=1.27E-8  #E10M_Sum/kpc^3\n",
    "Critial_Density_h=Critial_Density/h**2  #E10M_Sum/(kpc/h)^3"
   ]
  },
  {
   "cell_type": "code",
   "execution_count": 40,
   "metadata": {},
   "outputs": [],
   "source": [
    "halos_fields = ['GroupFirstSub', 'GroupNsubs', 'GroupMass', 'GroupPos']\n",
    "subhalos_fields = ['SubhaloGrNr', 'SubhaloMass', 'SubhaloPos']\n",
    "tree_fields = ['SubfindID', 'SnapNum']\n",
    "\n",
    "gas_fields=['Coordinates','Masses','Velocities']\n",
    "dm_fields=['Coordinates','Velocities']\n",
    "stars_fields=['Coordinates','Masses','Velocities']\n",
    "bh_fields=['Coordinates','Masses','Velocities']\n",
    "tree_fields=['SubfindID','SnapNum','Mass']"
   ]
  },
  {
   "cell_type": "code",
   "execution_count": 50,
   "metadata": {},
   "outputs": [],
   "source": [
    "def Cal_M_200_From_R_200(R_200,Comoving_Critial_Density):\n",
    "    \n",
    "    M_200=200*Comoving_Critial_Density*4/3*3.14*R_200**3\n",
    "    return M_200\n",
    "\n",
    "def R_200_Calculation(snapshot_num,subhalos_data,subhalo_id,Comoving_Critial_Density):\n",
    "    \n",
    "    subhalo_comoving_position=subhalos_data['SubhaloPos'][subhalo_id]\n",
    "    subhalo_comoving_velocity=subhalos_data['SubhaloVel'][subhalo_id]\n",
    "    subhalo_spin=subhalos_data['SubhaloSpin'][subhalo_id]\n",
    "    subhalo_mass=subhalos_data['SubhaloMass'][subhalo_id]\n",
    "    \n",
    "    gas_data_tensor=il.snapshot.loadSubhalo(basePath,snapshot_num,subhalo_id,0,fields=gas_fields)\n",
    "    dm_data_tensor=il.snapshot.loadSubhalo(basePath,snapshot_num,subhalo_id,1,fields=dm_fields)\n",
    "    stars_data_tensor=il.snapshot.loadSubhalo(basePath,snapshot_num,subhalo_id,4,fields=stars_fields)\n",
    "    bh_data_tensor=il.snapshot.loadSubhalo(basePath,snapshot_num,subhalo_id,5,fields=bh_fields)\n",
    "    \n",
    "    #if (len(gas_data_tensor)==1):\n",
    "     #   return 0\n",
    "    \n",
    "    precision = 1\n",
    "    max_iter = 100\n",
    "    left, right = 0, 1000\n",
    "    \n",
    "    for i in range(max_iter):\n",
    "\n",
    "        mid = (left + right) / 2\n",
    "        \n",
    "        mass_in=total_mass_in_radius(gas_data_tensor,dm_data_tensor,stars_data_tensor,bh_data_tensor,subhalo_comoving_position,mid)\n",
    "        \n",
    "        density=3*mass_in/(4*3.14*mid**3)\n",
    "        \n",
    "        if density > 200*Comoving_Critial_Density:\n",
    "            left = mid\n",
    "\n",
    "        else:\n",
    "            right = mid\n",
    "        \n",
    "\n",
    "        if abs(right - left) < precision or i == max_iter - 1:\n",
    "            R_200 = (left + right) / 2\n",
    "            break\n",
    "    \n",
    "    M_200=Cal_M_200_From_R_200(R_200,Comoving_Critial_Density)\n",
    "    \n",
    "    return R_200,M_200\n",
    "\n",
    "def baryon_mass_in_radius(Center,Radius,Coordinates,Masses):\n",
    "    dist_to_com = np.sqrt(np.sum((Coordinates - Center)**2, axis=1))\n",
    "    within_radius_idx = np.where(dist_to_com <= Radius)[0]\n",
    "    total_mass_within_radius = np.sum(Masses[within_radius_idx])\n",
    "    return total_mass_within_radius\n",
    "\n",
    "def dm_mass_in_radius(Center,Radius,Coordinates):\n",
    "    dist_to_com = np.sqrt(np.sum((Coordinates - Center)**2, axis=1))\n",
    "    within_radius_idx = np.where(dist_to_com <= Radius)[0]\n",
    "    total_mass_within_radius = m_dm*within_radius_idx.shape[0]*h\n",
    "    return total_mass_within_radius\n",
    "\n",
    "def total_mass_in_radius(gas_data_tensor,dm_data_tensor,stars_data_tensor,bh_data_tensor,Center,Radius):\n",
    "    \n",
    "    \n",
    "    \n",
    "    gas_mass_in=baryon_mass_in_radius(Center,Radius,gas_data_tensor['Coordinates'],gas_data_tensor['Masses'])\n",
    "    dm_mass_in=dm_mass_in_radius(Center,Radius,dm_data_tensor['Coordinates'])\n",
    "    stars_mass_in=baryon_mass_in_radius(Center,Radius,stars_data_tensor['Coordinates'],stars_data_tensor['Masses'])\n",
    "    bh_mass_in=baryon_mass_in_radius(Center,Radius,bh_data_tensor['Coordinates'],bh_data_tensor['Masses'])\n",
    "    \n",
    "    total_mass_in=gas_mass_in+dm_mass_in+stars_mass_in+bh_mass_in\n",
    "    \n",
    "    return total_mass_in\n",
    "\n",
    "def Binary_DataIter(Data_Set1,Data_Set2):\n",
    "    for i in range(0,min(len(Data_Set1),len(Data_Set2))):\n",
    "        yield Data_Set1[i],Data_Set2[i]\n",
    "        \n",
    "def cal_id_at_Z_from_99(Subhalo_Id_0,Z):#Z is the snapshot\n",
    "    subfindid_snapnum_tree=il.sublink.loadTree(basePath, 99, Subhalo_Id_0, fields=tree_fields, onlyMPB=True)\n",
    "    subfind_id=subfindid_snapnum_tree['SubfindID']\n",
    "    snapshot_num=subfindid_snapnum_tree['SnapNum']\n",
    "    index=np.where(snapshot_num==Z)[0]\n",
    "    return subfind_id[index][0]"
   ]
  },
  {
   "cell_type": "code",
   "execution_count": 6,
   "metadata": {},
   "outputs": [],
   "source": [
    "halos_data = il.groupcat.loadHalos(basePath, initial_snapshot, fields=halos_fields)\n",
    "subhalos_data = il.groupcat.loadSubhalos(basePath, initial_snapshot, fields=subhalos_fields)"
   ]
  },
  {
   "cell_type": "code",
   "execution_count": 7,
   "metadata": {},
   "outputs": [],
   "source": [
    "first_subhalo_id = halos_data['GroupFirstSub']\n",
    "n_subhalos = halos_data['GroupNsubs']\n",
    "group_mass = halos_data['GroupMass']\n",
    "subhalos_grnr = subhalos_data['SubhaloGrNr']\n",
    "subhalos_mass = subhalos_data['SubhaloMass']"
   ]
  },
  {
   "cell_type": "code",
   "execution_count": 8,
   "metadata": {},
   "outputs": [],
   "source": [
    "galaxy_mass_inf = 30\n",
    "galaxy_mass_sup = 500\n",
    "condition = (group_mass >= galaxy_mass_inf) & (group_mass <= galaxy_mass_sup)\n",
    "mw_like_index = np.where(condition)[0]"
   ]
  },
  {
   "cell_type": "code",
   "execution_count": 9,
   "metadata": {},
   "outputs": [
    {
     "name": "stderr",
     "output_type": "stream",
     "text": [
      "100%|██████████| 482/482 [00:02<00:00, 217.13it/s]\n"
     ]
    }
   ],
   "source": [
    "Host_Index_List=[]\n",
    "\n",
    "for i in tqdm(mw_like_index):\n",
    "    first_subhalo_index = first_subhalo_id[i]\n",
    "    if first_subhalo_index == -1:\n",
    "        continue\n",
    "    if n_subhalos[i] == 1:\n",
    "        continue\n",
    "\n",
    "    mass_array = np.array([])\n",
    "    for j in range(n_subhalos[i]):\n",
    "        subhalo_id = first_subhalo_index + j\n",
    "        mass_array = np.append(mass_array, subhalos_mass[subhalo_id])\n",
    "\n",
    "    host_id = first_subhalo_index + np.argsort(mass_array)[-1]\n",
    "    \n",
    "    Host_Index_List.append(host_id)\n"
   ]
  },
  {
   "cell_type": "code",
   "execution_count": 11,
   "metadata": {},
   "outputs": [],
   "source": [
    "spin_parameter_matrix=np.zeros(len(Host_Indice_Array),(abs(snapshot_end-snapshot_init + 1)))\n",
    "for current_snapshot in range(init_snapshot, end_snapshot):\n",
    "    \n",
    "    header=il.groupcat.loadHeader(basePath, current_snapshot)\n",
    "    scale_factor=header['Time']\n",
    "    comoving_critial_density=Critial_Density_h*(scale_factor**2)\n",
    "        \n",
    "    subhalos_data=il.groupcat.loadSubhalos(basePath,current_snapshot,fields=subhalo_fields)\n",
    "    \n",
    "    for subhalo_index_0 in Host_Index_List:\n",
    "        \n",
    "        subhalo_id=cal_id_at_Z_from_99(subhalo_id_0,current_snapshot)\n",
    "\n",
    "        R_200,M_200=R_200_Calculation(current_snapshot,subhalos_data,subhalo_id,comoving_critial_density)\n",
    "        \n",
    "        #Matrix append"
   ]
  },
  {
   "cell_type": "code",
   "execution_count": 53,
   "metadata": {},
   "outputs": [
    {
     "name": "stderr",
     "output_type": "stream",
     "text": [
      "  0%|          | 0/482 [00:00<?, ?it/s]\n"
     ]
    },
    {
     "ename": "TypeError",
     "evalue": "'int' object is not iterable",
     "output_type": "error",
     "traceback": [
      "\u001b[0;31m---------------------------------------------------------------------------\u001b[0m",
      "\u001b[0;31mTypeError\u001b[0m                                 Traceback (most recent call last)",
      "\u001b[0;32m<ipython-input-53-0a243d3b6e59>\u001b[0m in \u001b[0;36m<module>\u001b[0;34m\u001b[0m\n\u001b[1;32m     16\u001b[0m \u001b[0;34m\u001b[0m\u001b[0m\n\u001b[1;32m     17\u001b[0m \u001b[0;34m\u001b[0m\u001b[0m\n\u001b[0;32m---> 18\u001b[0;31m         \u001b[0mR_200\u001b[0m\u001b[0;34m,\u001b[0m\u001b[0mM_200\u001b[0m\u001b[0;34m=\u001b[0m\u001b[0mR_200_Calculation\u001b[0m\u001b[0;34m(\u001b[0m\u001b[0mcurrent_snapshot\u001b[0m\u001b[0;34m,\u001b[0m\u001b[0msubhalos_data\u001b[0m\u001b[0;34m,\u001b[0m\u001b[0msubhalo_id\u001b[0m\u001b[0;34m,\u001b[0m\u001b[0mcomoving_critial_density\u001b[0m\u001b[0;34m)\u001b[0m\u001b[0;34m\u001b[0m\u001b[0;34m\u001b[0m\u001b[0m\n\u001b[0m\u001b[1;32m     19\u001b[0m \u001b[0;34m\u001b[0m\u001b[0m\n\u001b[1;32m     20\u001b[0m         \u001b[0mr200_matrix\u001b[0m\u001b[0;34m[\u001b[0m\u001b[0mhost_index\u001b[0m\u001b[0;34m]\u001b[0m\u001b[0;34m[\u001b[0m\u001b[0mend_snapshot\u001b[0m\u001b[0;34m-\u001b[0m\u001b[0mcurrent_snapshot\u001b[0m\u001b[0;34m]\u001b[0m\u001b[0;34m=\u001b[0m\u001b[0mR_200\u001b[0m\u001b[0;34m\u001b[0m\u001b[0;34m\u001b[0m\u001b[0m\n",
      "\u001b[0;31mTypeError\u001b[0m: 'int' object is not iterable"
     ]
    }
   ],
   "source": [
    "end_snapshot=99\n",
    "init_snapshot=70\n",
    "subhalo_fields=['SubhaloPos','SubhaloVel','SubhaloSpin','SubhaloCM','SubhaloMass']\n",
    "r200_matrix=np.zeros((len(Host_Index_List),(abs(end_snapshot-init_snapshot+1))))\n",
    "for current_snapshot in range(end_snapshot,init_snapshot-1,-1):\n",
    "    \n",
    "    header=il.groupcat.loadHeader(basePath, current_snapshot)\n",
    "    scale_factor=header['Time']\n",
    "    comoving_critial_density=Critial_Density_h*(scale_factor**2)\n",
    "        \n",
    "    subhalos_data=il.groupcat.loadSubhalos(basePath,current_snapshot,fields=subhalo_fields)\n",
    "    \n",
    "    for host_id_0 in tqdm(Host_Indice_Array):\n",
    "        host_index=np.where(Host_Indice_Array==host_id_0)[0][0]\n",
    "        subhalo_id=cal_id_at_Z_from_99(host_id_0,current_snapshot)\n",
    "        \n",
    "        \n",
    "        R_200,M_200=R_200_Calculation(current_snapshot,subhalos_data,subhalo_id,comoving_critial_density)\n",
    "        \n",
    "        r200_matrix[host_index][end_snapshot-current_snapshot]=R_200\n",
    "        \n",
    "    gc.collect()\n",
    "        \n",
    "np.save('r_200.npy',r200_matrix)"
   ]
  },
  {
   "cell_type": "code",
   "execution_count": 36,
   "metadata": {},
   "outputs": [
    {
     "data": {
      "text/plain": [
       "5247"
      ]
     },
     "execution_count": 36,
     "metadata": {},
     "output_type": "execute_result"
    }
   ],
   "source": [
    "gc.collect()"
   ]
  },
  {
   "cell_type": "code",
   "execution_count": 46,
   "metadata": {},
   "outputs": [
    {
     "data": {
      "text/plain": [
       "300734"
      ]
     },
     "execution_count": 46,
     "metadata": {},
     "output_type": "execute_result"
    }
   ],
   "source": [
    "subhalo_id"
   ]
  },
  {
   "cell_type": "code",
   "execution_count": 47,
   "metadata": {},
   "outputs": [],
   "source": [
    "gas_data_tensor=il.snapshot.loadSubhalo(basePath,99,300734,0,fields=gas_fields)"
   ]
  },
  {
   "cell_type": "code",
   "execution_count": 49,
   "metadata": {},
   "outputs": [
    {
     "data": {
      "text/plain": [
       "1"
      ]
     },
     "execution_count": 49,
     "metadata": {},
     "output_type": "execute_result"
    }
   ],
   "source": [
    "len(gas_data_tensor)"
   ]
  },
  {
   "cell_type": "code",
   "execution_count": null,
   "metadata": {},
   "outputs": [],
   "source": []
  }
 ],
 "metadata": {
  "kernelspec": {
   "display_name": "Python 3",
   "language": "python",
   "name": "python3"
  },
  "language_info": {
   "codemirror_mode": {
    "name": "ipython",
    "version": 3
   },
   "file_extension": ".py",
   "mimetype": "text/x-python",
   "name": "python",
   "nbconvert_exporter": "python",
   "pygments_lexer": "ipython3",
   "version": "3.6.7"
  }
 },
 "nbformat": 4,
 "nbformat_minor": 2
}
