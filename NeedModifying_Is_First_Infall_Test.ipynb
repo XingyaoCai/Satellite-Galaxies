{
 "cells": [
  {
   "cell_type": "markdown",
   "metadata": {},
   "source": [
    "This file tries to judge if a galaxy has its mms galaxy on the first infall, but fails."
   ]
  },
  {
   "cell_type": "code",
   "execution_count": 1,
   "metadata": {},
   "outputs": [],
   "source": [
    "import os\n",
    "import gc\n",
    "from tqdm import tqdm\n",
    "import illustris_python as il\n",
    "import numpy as np\n",
    "import matplotlib.pyplot as plt\n",
    "import matplotlib as mpl\n",
    "from mpl_toolkits import mplot3d\n",
    "import math\n",
    "\n",
    "# %matplotlib widget\n",
    "basePath = \"./sims.TNG/TNG100-1/output\"\n"
   ]
  },
  {
   "cell_type": "code",
   "execution_count": 2,
   "metadata": {},
   "outputs": [],
   "source": [
    "initial_snapshot = 69\n",
    "end_snapshot = 99\n",
    "\n",
    "halos_fields = [\"GroupFirstSub\", \"GroupNsubs\", \"GroupMass\", \"GroupPos\"]\n",
    "subhalos_fields = [\"SubhaloGrNr\", \"SubhaloMass\", \"SubhaloPos\"]\n",
    "tree_fields = [\"SubfindID\", \"SnapNum\"]\n",
    "\n",
    "h = 0.6774  # km/Mpc\n",
    "\n",
    "m_dm = 4.5e-5  # E10M_Sum\n",
    "m_dm_h = m_dm * h\n",
    "\n",
    "Critial_Density = 1.27e-8  # E10M_Sum/kpc^3\n",
    "Critial_Density_h = Critial_Density / h**2  # E10M_Sum/(kpc/h)^3\n"
   ]
  },
  {
   "cell_type": "code",
   "execution_count": 3,
   "metadata": {},
   "outputs": [],
   "source": [
    "def Detect_Mkdir(Path):\n",
    "    if not (os.path.exists(Path)):\n",
    "        os.makedirs(Path)\n",
    "    return Path\n",
    "\n",
    "\n",
    "def Triple_Array_Iter(Data_Array1, Data_Array2, Data_Array3):\n",
    "    for index in range(0, min(len(Data_Array1), len(Data_Array2), len(Data_Array3))):\n",
    "        yield Data_Array1[index], Data_Array2[index], Data_Array3[index]\n",
    "\n",
    "\n",
    "def Calculate_Halo_Dict(halo_index, host_index, mms_index):\n",
    "\n",
    "    host_tree = il.sublink.loadTree(\n",
    "        basePath, end_snapshot, host_index, fields=tree_fields, onlyMPB=1)\n",
    "    mms_tree = il.sublink.loadTree(\n",
    "        basePath, end_snapshot, mms_index, fields=tree_fields, onlyMPB=1)\n",
    "\n",
    "    satellite_velocity_list = list()\n",
    "    host_mms_distance = list()\n",
    "    host_position_list = list()\n",
    "    mms_position_list = list()\n",
    "\n",
    "    for current_snapshot in range(initial_snapshot, end_snapshot+1):\n",
    "\n",
    "        header = il.groupcat.loadHeader(basePath, current_snapshot)\n",
    "        scale_factor = header['Time']\n",
    "        host_subhalo_index = host_tree['SubfindID'][np.where(\n",
    "            host_tree['SnapNum'] == current_snapshot)[0]]\n",
    "        mms_subhalo_index = mms_tree['SubfindID'][np.where(\n",
    "            mms_tree['SnapNum'] == current_snapshot)[0]]\n",
    "\n",
    "        if len(mms_subhalo_index) == 0 or len(host_subhalo_index) == 0:\n",
    "            satellite_velocity_list.append(0)\n",
    "            host_mms_distance.append(0)\n",
    "            host_position_list.append(np.array([0, 0, 0]))\n",
    "            mms_position_list.append(np.array([0, 0, 0]))\n",
    "            continue\n",
    "\n",
    "        host_subhalo_dict = il.groupcat.loadSingle(\n",
    "            basePath, current_snapshot, -1, host_subhalo_index)\n",
    "        mms_subhalo_dict = il.groupcat.loadSingle(\n",
    "            basePath, current_snapshot, -1, mms_subhalo_index)\n",
    "\n",
    "        current_host_comoving_position = host_subhalo_dict['SubhaloPos']\n",
    "        current_mms_comoving_position = mms_subhalo_dict['SubhaloPos']\n",
    "\n",
    "        current_host_physical_position = current_host_comoving_position*scale_factor\n",
    "        current_mms_physical_position = current_mms_comoving_position*scale_factor\n",
    "\n",
    "        current_host_physical_position = current_host_physical_position % 35000\n",
    "        current_mms_physical_position = current_mms_physical_position % 35000\n",
    "\n",
    "        current_difference_physical_coordinates = current_mms_physical_position - \\\n",
    "            current_host_physical_position\n",
    "        distance = np.linalg.norm(current_difference_physical_coordinates)\n",
    "\n",
    "        host_velocity = host_subhalo_dict['SubhaloVel']\n",
    "        mms_velocity = mms_subhalo_dict['SubhaloVel']\n",
    "\n",
    "        Vel_diff = mms_velocity-host_velocity\n",
    "        Vel_Radius = np.dot(\n",
    "            Vel_diff, current_difference_physical_coordinates)/distance\n",
    "\n",
    "        satellite_velocity_list.append(Vel_Radius)\n",
    "\n",
    "        gc.collect()\n",
    "\n",
    "    satellite_radial_velocity = np.array(satellite_velocity_list)\n",
    "\n",
    "    return_data = dict()\n",
    "    return_data['RadialVelocity'] = satellite_radial_velocity\n",
    "    return_data['Distance'] = host_mms_distance\n",
    "    return_data['Snapshots'] = np.arange(initial_snapshot, end_snapshot+1)\n",
    "    return return_data\n",
    "\n",
    "\n",
    "def Extremum_Calculation(Radial_Velocity_Array):\n",
    "    Extremum_Number = 0\n",
    "    for index in np.arange(len(Radial_Velocity_Array)-1):\n",
    "        if Radial_Velocity_Array[index]*Radial_Velocity_Array[index+1] < 0:\n",
    "            Extremum_Number += 1\n",
    "    return Extremum_Number\n"
   ]
  },
  {
   "cell_type": "code",
   "execution_count": 11,
   "metadata": {},
   "outputs": [],
   "source": [
    "FilePath = Detect_Mkdir(os.path.join('./TNG100_Final_File'))\n",
    "Final_File_List = ['Halo_Array', 'Host_Array', 'MMS_Array', 'First_App_Snap_Array', 'First_App_Distance_Array',\n",
    "                   'Snap99_Distance_Array', 'Snap99_Radial_Velocity_Array', 'Snap99_Virial_Radius_Array', 'Is_First_Approach','Is_First_Infall']\n",
    "for filename in Final_File_List:\n",
    "    if os.path.exists(os.path.join(FilePath, filename)+'.npy'):\n",
    "        globals()[filename] = np.load(\n",
    "            (os.path.join(FilePath, filename)+'.npy'))\n"
   ]
  },
  {
   "cell_type": "code",
   "execution_count": null,
   "metadata": {},
   "outputs": [],
   "source": [
    "FilePath = Detect_Mkdir(os.path.join('./TNG100_Final_File'))\n",
    "filename='Is_First_Infall'\n",
    "if os.path.exists(os.path.join(FilePath, filename)+'.npy'):\n",
    "    globals()[filename] = np.load(\n",
    "        (os.path.join(FilePath, filename)+'.npy'))\n",
    "else:Is_First_Infall=np.array([])\n",
    "\n",
    "start_sub_index = Is_First_Infall.shape[0]\n",
    "step_length = 10\n",
    "end = start_sub_index+step_length\n",
    "\n",
    "if end > Halo_Array.shape[0]:end =Halo_Array.shape[0]\n",
    "Final_File_Is_First_Infall = list()\n",
    "\n",
    "for Subindex in tqdm(range(start_sub_index,end)):\n",
    "    Halo_Index=Halo_Array[Subindex]\n",
    "    Host_Index=Host_Array[Subindex]\n",
    "    MMS_Index=MMS_Array[Subindex]\n",
    "\n",
    "    halo_dict=Calculate_Halo_Dict(Halo_Index,Host_Index,MMS_Index)\n",
    "    If_Extremun_Num_Less_2=(Extremum_Calculation(halo_dict['RadialVelocity'])<=1)\n",
    "    If_Radial_Velocity_Negative = (\n",
    "        halo_dict['RadialVelocity'][end_snapshot-initial_snapshot] < 0)\n",
    "    If_First_Infall = If_Radial_Velocity_Negative and If_Extremun_Num_Less_2\n",
    "    Final_File_Is_First_Infall.append(If_First_Infall)\n",
    "\n",
    "\n",
    "Final_File_Is_First_Infall_Array = np.array(Final_File_Is_First_Infall)\n",
    "\n",
    "if os.path.exists(os.path.join(FilePath, filename)+'.npy'):\n",
    "    Previous_File = np.load((os.path.join(FilePath, filename)+'.npy'))\n",
    "    Next_File_Name = 'Final_File_'+filename\n",
    "    Next_File_Array = globals()[Next_File_Name]\n",
    "    ConCated_File = np.concatenate(\n",
    "            (Previous_File, Next_File_Array), axis=0)\n",
    "    np.save((os.path.join(FilePath, filename)+'.npy'), ConCated_File)\n",
    "else:\n",
    "    File_Name = 'Final_File_'+filename\n",
    "    File_Array = globals()[File_Name]\n",
    "    np.save((os.path.join(FilePath, filename)+'.npy'), File_Array)\n"
   ]
  },
  {
   "cell_type": "code",
   "execution_count": 18,
   "metadata": {},
   "outputs": [
    {
     "data": {
      "text/plain": [
       "array([ 441,  464,  508,  559,  604,  611,  635,  705,  729,  802,  899,\n",
       "        910,  941, 1017, 1060, 1094, 1114, 1121, 1149, 1190, 1199, 1215,\n",
       "       1220, 1269, 1273, 1294, 1334, 1356, 1452, 1465, 1486, 1496, 1502,\n",
       "       1507, 1521, 1553, 1596, 1598, 1606, 1736, 1757, 1765, 1771, 1840,\n",
       "       1854, 1863, 1889, 1901, 1940, 1950, 1954, 1997, 2058, 2148, 2165,\n",
       "       2171, 2247, 2252, 2254, 2371, 2400, 2434, 2458, 2483, 2529, 2569,\n",
       "       2587, 2597, 2671, 2704, 2740, 2858, 2861, 2867, 2923, 2936, 2955,\n",
       "       2967, 2974, 3008, 3029, 3031, 3106, 3115, 3233, 3277, 3314, 3362,\n",
       "       3383, 3397, 3527, 3567, 3585, 3598, 3620, 3641, 3718, 3772, 3953,\n",
       "       3959, 3971, 4065, 4097, 4154, 4157, 4166, 4174, 4184, 4223, 4279,\n",
       "       4352, 4360, 4363, 4382, 4454, 4470, 4518, 4597, 4638, 4647, 4684,\n",
       "       4825, 4925])"
      ]
     },
     "execution_count": 18,
     "metadata": {},
     "output_type": "execute_result"
    }
   ],
   "source": [
    "Halo_Array[np.where(Is_First_Approach)]\n"
   ]
  },
  {
   "cell_type": "code",
   "execution_count": 23,
   "metadata": {},
   "outputs": [
    {
     "data": {
      "text/plain": [
       "array([ 328,  331,  341,  342,  351,  354,  358,  366,  367,  377,  379,\n",
       "        381,  385,  391,  394,  397,  404,  409,  412,  413,  414,  415,\n",
       "        421,  423,  426,  430,  440,  444,  448,  449,  451,  452,  453,\n",
       "        455,  458,  459,  462,  463,  468,  471,  472,  473,  475,  476,\n",
       "        478,  479,  483,  487,  490,  492,  494,  499,  500,  502,  503,\n",
       "        507,  514,  520,  521,  522,  527,  528,  531,  547,  548,  550,\n",
       "        551,  556,  558,  559,  564,  569,  575,  580,  582,  586,  587,\n",
       "        590,  597,  598,  599,  600,  601,  602,  605,  606,  608,  609,\n",
       "        610,  611,  614,  616,  619,  623,  626,  627,  629,  631,  632,\n",
       "        633,  635,  639,  640,  642,  643,  646,  647,  654,  655,  656,\n",
       "        659,  661,  665,  667,  668,  673,  679,  680,  684,  686,  687,\n",
       "        688,  689,  692,  693,  695,  696,  707,  709,  710,  717,  719,\n",
       "        728,  731,  733,  734,  736,  738,  740,  743,  744,  745,  747,\n",
       "        750,  753,  755,  757,  758,  759,  765,  766,  774,  775,  776,\n",
       "        782,  785,  786,  788,  789,  796,  797,  801,  803,  804,  806,\n",
       "        810,  811,  812,  813,  814,  816,  819,  821,  822,  825,  826,\n",
       "        827,  831,  832,  834,  836,  837,  839,  840,  843,  844,  846,\n",
       "        848,  855,  858,  860,  862,  864,  865,  873,  874,  875,  878,\n",
       "        882,  884,  889,  890,  902,  910,  912,  915,  918,  923,  924,\n",
       "        932,  942,  945,  946,  948,  955,  956,  958,  960,  964,  966,\n",
       "        967,  968,  970,  974,  984,  987,  988,  989,  991,  994,  996,\n",
       "        998, 1000, 1002, 1003, 1005, 1007, 1011, 1014, 1015, 1016, 1019,\n",
       "       1020, 1026, 1027, 1030, 1034, 1038, 1047, 1048, 1049, 1052, 1053,\n",
       "       1054, 1056, 1057, 1058, 1063, 1076, 1089, 1090, 1094, 1098, 1104,\n",
       "       1106, 1107, 1109, 1113, 1117, 1118, 1119, 1120, 1121, 1122, 1123,\n",
       "       1126, 1127, 1129, 1135, 1136, 1138, 1139, 1140, 1147, 1149, 1150,\n",
       "       1153, 1156, 1157, 1161, 1163, 1166, 1167, 1169, 1170, 1173, 1175,\n",
       "       1180, 1182, 1184, 1186, 1187, 1190, 1194, 1197, 1198, 1207, 1209,\n",
       "       1211, 1213, 1217, 1225, 1230, 1231, 1232, 1238, 1239, 1241, 1243,\n",
       "       1244, 1246, 1250, 1251, 1252, 1256, 1257, 1260, 1263, 1266, 1268,\n",
       "       1270, 1274, 1275, 1279, 1280, 1281, 1282, 1286, 1296, 1298, 1304,\n",
       "       1309, 1318, 1320, 1321, 1322, 1323, 1329, 1333, 1338, 1339, 1341,\n",
       "       1344, 1345])"
      ]
     },
     "execution_count": 23,
     "metadata": {},
     "output_type": "execute_result"
    }
   ],
   "source": [
    "Halo_Array[np.where(Is_First_Infall)]\n"
   ]
  },
  {
   "cell_type": "code",
   "execution_count": 24,
   "metadata": {},
   "outputs": [
    {
     "name": "stdout",
     "output_type": "stream",
     "text": [
      "[559]\n",
      "[611]\n",
      "[635]\n",
      "[910]\n",
      "[1094]\n",
      "[1121]\n",
      "[1149]\n",
      "[1190]\n"
     ]
    },
    {
     "name": "stderr",
     "output_type": "stream",
     "text": [
      "/tmp/ipykernel_3004/3090973179.py:3: DeprecationWarning: The truth value of an empty array is ambiguous. Returning False, but in future this will result in an error. Use `array.size > 0` to check that an array is not empty.\n",
      "  if index[0]: print(Halo_Array[np.where(Is_First_Approach)][index])\n"
     ]
    }
   ],
   "source": [
    "for id in Halo_Array[np.where(Is_First_Infall)]:\n",
    "    index=np.where(Halo_Array[np.where(Is_First_Approach)]==id)\n",
    "    if index[0]: print(Halo_Array[np.where(Is_First_Approach)][index])\n"
   ]
  },
  {
   "cell_type": "code",
   "execution_count": null,
   "metadata": {},
   "outputs": [],
   "source": []
  }
 ],
 "metadata": {
  "kernelspec": {
   "display_name": "Python 3 (ipykernel)",
   "language": "python",
   "name": "python3"
  }
 },
 "nbformat": 4,
 "nbformat_minor": 2
}
