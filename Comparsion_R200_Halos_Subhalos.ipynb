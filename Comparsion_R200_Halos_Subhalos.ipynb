{
 "cells": [
  {
   "cell_type": "code",
   "execution_count": null,
   "metadata": {},
   "outputs": [],
   "source": [
    "import os\n",
    "import gc\n",
    "from tqdm import tqdm\n",
    "import illustris_python as il\n",
    "import numpy as np\n",
    "import matplotlib.pyplot as plt\n",
    "import matplotlib as mpl\n",
    "from mpl_toolkits import mplot3d\n",
    "import math\n",
    "\n",
    "# %matplotlib widget\n",
    "basePath = \"./sims.TNG/TNG100-1/output\"\n",
    "\n",
    "initial_snapshot = 69\n",
    "end_snapshot = 99\n",
    "\n",
    "halos_fields = [\"GroupFirstSub\", \"GroupNsubs\", \"GroupMass\", \"GroupPos\"]\n",
    "subhalos_fields = [\"SubhaloGrNr\", \"SubhaloMass\", \"SubhaloPos\"]\n",
    "tree_fields = [\"SubfindID\", \"SnapNum\"]\n",
    "\n",
    "h = 0.6774  # km/Mpc\n",
    "\n",
    "m_dm = 4.5e-5  # E10M_Sum\n",
    "m_dm_h = m_dm * h\n",
    "\n",
    "Critial_Density = 1.27e-8  # E10M_Sum/kpc^3\n",
    "Critial_Density_h = Critial_Density / h**2  # E10M_Sum/(kpc/h)^3\n",
    "\n",
    "\n",
    "def Detect_Mkdir(Path):\n",
    "    if not (os.path.exists(Path)):\n",
    "        os.makedirs(Path)\n",
    "    return Path\n",
    "\n",
    "\n",
    "FilePath = Detect_Mkdir(os.path.join('./TNG100_Final_File'))\n",
    "Final_File_List = ['Halo_Array', 'Host_Array', 'MMS_Array', 'First_App_Snap_Array', 'First_App_Distance_Array',\n",
    "                   'Snap99_Distance_Array', 'Snap99_Radial_Velocity_Array', 'Snap99_Virial_Radius_Array', 'Is_First_Approach', 'Is_First_Infall']\n",
    "for filename in Final_File_List:\n",
    "    if os.path.exists(os.path.join(FilePath, filename)+'.npy'):\n",
    "        globals()[filename] = np.load(\n",
    "            (os.path.join(FilePath, filename)+'.npy'))\n"
   ]
  },
  {
   "cell_type": "code",
   "execution_count": null,
   "metadata": {},
   "outputs": [],
   "source": [
    "virial_radius = il.groupcat.loadHalos(basePath, 99, fields=['Group_R_Crit200'])\n"
   ]
  },
  {
   "cell_type": "code",
   "execution_count": null,
   "metadata": {},
   "outputs": [],
   "source": [
    "plt.hist(Snap99_Virial_Radius_Array, bins=30, range=[\n",
    "         0, 150], histtype='bar', edgecolor='black', color='blue', alpha=0.4, label='$Subhalo\\ R_{200}$')\n",
    "plt.hist(virial_radius[Halo_Array], bins=50, range=[50, 300], histtype='bar',\n",
    "         edgecolor='black', color='red', alpha=0.4, label='$Halo\\ R_{200}$')\n",
    "plt.legend()\n",
    "plt.xlabel('Virial Radius kpc/h')\n",
    "plt.ylabel('Number')\n",
    "plt.title('Virial Radii of Subhalos And Halos')\n",
    "plt.axvline(x=Snap99_Virial_Radius_Array.mean(), color='blue', linestyle='dashed',\n",
    "                linewidth=1)\n",
    "plt.axvline(x=np.median(Snap99_Virial_Radius_Array), color='blue', linestyle='solid',\n",
    "                linewidth=1)\n",
    "plt.axvline(x=np.median(virial_radius[Halo_Array]), color='red', linestyle='solid',\n",
    "                linewidth=1)\n",
    "plt.axvline(x=virial_radius[Halo_Array].mean(), color='red', linestyle='dashed',\n",
    "                linewidth=1)\n"
   ]
  }
 ],
 "metadata": {
  "language_info": {
   "name": "python"
  }
 },
 "nbformat": 4,
 "nbformat_minor": 2
}
