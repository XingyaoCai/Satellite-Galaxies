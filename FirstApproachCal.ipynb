{
 "cells": [
  {
   "cell_type": "code",
   "execution_count": 1,
   "metadata": {},
   "outputs": [],
   "source": [
    "import illustris_python as il\n",
    "import numpy as np\n",
    "import matplotlib.pyplot as plt\n",
    "import matplotlib as mpl\n",
    "import FunctionLib\n",
    "import math\n",
    "#%matplotlib widget\n",
    "basePath ='./sims.TNG/TNG50-1/output'\n",
    "from tqdm import tqdm\n",
    "import gc\n",
    "import os"
   ]
  },
  {
   "cell_type": "code",
   "execution_count": 2,
   "metadata": {},
   "outputs": [],
   "source": [
    "basePath = './sims.TNG/TNG50-1/output'\n",
    "initial_snapshot = 84\n",
    "end_snapshot = 99\n",
    "\n",
    "halos_fields = ['GroupFirstSub', 'GroupNsubs', 'GroupMass', 'GroupPos']\n",
    "subhalos_fields = ['SubhaloGrNr', 'SubhaloMass', 'SubhaloPos']\n",
    "tree_fields = ['SubfindID', 'SnapNum']"
   ]
  },
  {
   "cell_type": "code",
   "execution_count": 42,
   "metadata": {},
   "outputs": [],
   "source": [
    "halos_data = il.groupcat.loadHalos(basePath, end_snapshot, fields=halos_fields)\n",
    "subhalos_data = il.groupcat.loadSubhalos(basePath, end_snapshot, fields=subhalos_fields)"
   ]
  },
  {
   "cell_type": "code",
   "execution_count": 41,
   "metadata": {},
   "outputs": [
    {
     "data": {
      "text/plain": [
       "array([  7311.77001953,  24565.50390625,  21472.859375  ], dtype=float32)"
      ]
     },
     "execution_count": 41,
     "metadata": {},
     "output_type": "execute_result"
    }
   ],
   "source": [
    "subhalos_data['SubhaloPos'][0]"
   ]
  },
  {
   "cell_type": "code",
   "execution_count": 4,
   "metadata": {},
   "outputs": [],
   "source": [
    "first_subhalo_id = halos_data['GroupFirstSub']\n",
    "n_subhalos = halos_data['GroupNsubs']\n",
    "group_mass = halos_data['GroupMass']\n",
    "subhalos_grnr = subhalos_data['SubhaloGrNr']\n",
    "subhalos_mass = subhalos_data['SubhaloMass']"
   ]
  },
  {
   "cell_type": "code",
   "execution_count": 5,
   "metadata": {},
   "outputs": [],
   "source": [
    "galaxy_mass_inf = 30\n",
    "galaxy_mass_sup = 500\n",
    "condition = (group_mass >= galaxy_mass_inf) & (group_mass <= galaxy_mass_sup)\n",
    "mw_like_index = np.where(condition)[0]"
   ]
  },
  {
   "cell_type": "code",
   "execution_count": 6,
   "metadata": {},
   "outputs": [],
   "source": [
    "def Binary_DataIter(Data_Set1,Data_Set2):\n",
    "    for i in range(0,min(len(Data_Set1),len(Data_Set2))):\n",
    "        yield Data_Set1[i],Data_Set2[i]"
   ]
  },
  {
   "cell_type": "code",
   "execution_count": 8,
   "metadata": {},
   "outputs": [
    {
     "name": "stderr",
     "output_type": "stream",
     "text": [
      "100%|██████████| 16/16 [05:45<00:00, 21.59s/it]\n"
     ]
    }
   ],
   "source": [
    "pos_array_list = []\n",
    "\n",
    "fields = ['SubhaloPos']\n",
    "for current_snapshot in tqdm(range(initial_snapshot, end_snapshot + 1)):\n",
    "    pos_array_list.append(il.groupcat.loadSubhalos(basePath, current_snapshot, fields))\n"
   ]
  },
  {
   "cell_type": "code",
   "execution_count": 9,
   "metadata": {},
   "outputs": [
    {
     "name": "stderr",
     "output_type": "stream",
     "text": [
      "100%|██████████| 482/482 [01:22<00:00,  5.81it/s]\n"
     ]
    }
   ],
   "source": [
    "distances = []\n",
    "is_first_approach_indices=[]\n",
    "is_4mass=[]\n",
    "for i in tqdm(mw_like_index):\n",
    "    first_subhalo_index = first_subhalo_id[i]\n",
    "    if first_subhalo_index == -1:\n",
    "        continue\n",
    "    if n_subhalos[i] == 1:\n",
    "        continue\n",
    "\n",
    "    mass_array = np.array([])\n",
    "    for j in range(n_subhalos[i]):\n",
    "        subhalo_id = first_subhalo_index + j\n",
    "        mass_array = np.append(mass_array, subhalos_mass[subhalo_id])\n",
    "\n",
    "    host_id = first_subhalo_index + np.argsort(mass_array)[-1]\n",
    "    mms_id = first_subhalo_index + np.argsort(mass_array)[-2]\n",
    "\n",
    "    mass_host = mass_array[np.argsort(mass_array)[-1]]\n",
    "    mass_mms = mass_array[np.argsort(mass_array)[-2]]\n",
    "    \n",
    "    if (mass_host/mass_mms<4): continue\n",
    "        \n",
    "    is_4mass.append(i)\n",
    "    \n",
    "    host_tree = il.sublink.loadTree(basePath, initial_snapshot, host_id, fields=tree_fields)\n",
    "    mms_tree = il.sublink.loadTree(basePath, initial_snapshot, mms_id, fields=tree_fields)\n",
    "\n",
    "    host_subfind_id = host_tree['SubfindID']\n",
    "    mms_subfind_id = mms_tree['SubfindID']\n",
    "    \n",
    "    distances = []\n",
    "    for current_snapshot in range(initial_snapshot, end_snapshot + 1):\n",
    "        \n",
    "        current_host_id = host_subfind_id[current_snapshot - initial_snapshot]\n",
    "        current_mms_id = mms_subfind_id[current_snapshot - initial_snapshot]\n",
    "\n",
    "        position_data = pos_array_list[end_snapshot - current_snapshot]\n",
    "\n",
    "        current_host_position = position_data[current_host_id]\n",
    "        current_mms_position = position_data[current_mms_id]\n",
    "\n",
    "        distance = np.linalg.norm(current_host_position - current_mms_position)\n",
    "        distances.append(distance)\n",
    "    \n",
    "    if distances and distances[-1] == min(distances):is_first_approach_indices.append(i)\n",
    "    \n",
    "    snapshots = np.arange(initial_snapshot, end_snapshot + 1)\n",
    "    plt.plot(snapshots, np.array(distances))\n",
    "    plt.xlabel('Snapshot')\n",
    "    plt.ylabel('Distance between Host and MMS')\n",
    "    plt.title('Distance between Host and MMS over Time')\n",
    "    plt.grid()\n",
    "    fig_name = f\"{i}_first_approach.png\"\n",
    "    save_path = './FirstApp/'\n",
    "    os.makedirs(save_path, exist_ok=True)\n",
    "    plt.savefig(os.path.join(save_path, fig_name))\n",
    "    plt.close(\"all\")"
   ]
  },
  {
   "cell_type": "code",
   "execution_count": 22,
   "metadata": {},
   "outputs": [
    {
     "data": {
      "text/plain": [
       "12"
      ]
     },
     "execution_count": 22,
     "metadata": {},
     "output_type": "execute_result"
    }
   ],
   "source": [
    "len(is_first_approach_indices)"
   ]
  },
  {
   "cell_type": "code",
   "execution_count": 17,
   "metadata": {},
   "outputs": [
    {
     "data": {
      "text/plain": [
       "[48, 82, 96, 150, 166, 177, 233, 255, 273, 275, 282, 423, 446]"
      ]
     },
     "execution_count": 17,
     "metadata": {},
     "output_type": "execute_result"
    }
   ],
   "source": [
    "is_first_approach_indices"
   ]
  },
  {
   "cell_type": "code",
   "execution_count": 23,
   "metadata": {},
   "outputs": [
    {
     "data": {
      "text/plain": [
       "419"
      ]
     },
     "execution_count": 23,
     "metadata": {},
     "output_type": "execute_result"
    }
   ],
   "source": [
    "len(is_4mass)"
   ]
  },
  {
   "cell_type": "code",
   "execution_count": 19,
   "metadata": {},
   "outputs": [
    {
     "data": {
      "image/png": "[encoded data removed]",
      "text/plain": [
       "<Figure size 432x288 with 1 Axes>"
      ]
     },
     "metadata": {
      "needs_background": "light"
     },
     "output_type": "display_data"
    }
   ],
   "source": [
    "if(1):\n",
    "    i=55\n",
    "    first_subhalo_index = first_subhalo_id[i]\n",
    "\n",
    "    mass_array = np.array([])\n",
    "    for j in range(n_subhalos[i]):\n",
    "        subhalo_id = first_subhalo_index + j\n",
    "        mass_array = np.append(mass_array, subhalos_mass[subhalo_id])\n",
    "\n",
    "    host_id = first_subhalo_index + np.argsort(mass_array)[-1]\n",
    "    mms_id = first_subhalo_index + np.argsort(mass_array)[-2]\n",
    "\n",
    "    mass_host = mass_array[np.argsort(mass_array)[-1]]\n",
    "    mass_mms = mass_array[np.argsort(mass_array)[-2]]\n",
    "    \n",
    "\n",
    "    \n",
    "    host_tree = il.sublink.loadTree(basePath, end_snapshot, host_id, fields=tree_fields)\n",
    "    mms_tree = il.sublink.loadTree(basePath, end_snapshot, mms_id, fields=tree_fields)\n",
    "\n",
    "    host_subfind_id = host_tree['SubfindID']\n",
    "    mms_subfind_id = mms_tree['SubfindID']\n",
    "    \n",
    "    xs = []\n",
    "    ys=[]\n",
    "    for current_snapshot in range(initial_snapshot, end_snapshot + 1):\n",
    "        current_tree_index=end_snapshot-current_snapshot\n",
    "        \n",
    "        current_host_id = host_subfind_id[current_tree_index]\n",
    "        current_mms_id = mms_subfind_id[current_tree_index]\n",
    "\n",
    "        position_data = pos_array_list[current_tree_index]\n",
    "\n",
    "        current_host_position = position_data[current_host_id]\n",
    "        current_mms_position = position_data[current_mms_id]\n",
    "\n",
    "        current_host_position=np.mod(current_host_position,35000)\n",
    "\n",
    "        \n",
    "        distance = (current_host_position)\n",
    "        \n",
    "        xs.append(distance[0])\n",
    "        ys.append(distance[1])\n",
    "        \n",
    "    snapshots = np.arange(initial_snapshot, end_snapshot + 1)\n",
    "    plt.plot(xs, ys)\n",
    "    plt.xlabel('X Distance')\n",
    "    plt.ylabel('Y Distance')\n",
    "    plt.title('Distance between Host and MMS over Time')\n",
    "    plt.grid()\n",
    "    fig_name = f\"{i}.png\"\n",
    "    save_path = './'\n",
    "    #os.makedirs(save_path, exist_ok=True)\n",
    "    #plt.savefig(os.path.join(save_path, fig_name))\n",
    "    plt.show()\n",
    "    plt.close(\"all\")"
   ]
  },
  {
   "cell_type": "code",
   "execution_count": 20,
   "metadata": {},
   "outputs": [
    {
     "data": {
      "text/plain": [
       "{'count': 112,\n",
       " 'SubfindID': array([ 351320,  350993,  347569,  345005,  343229,  339773,  338813,\n",
       "         334767,  329770,  326908,  319156,  324252,  321990,  317747,\n",
       "         315342,  309268,  302932,  297952,  296354,  292619,  290327,\n",
       "         286549,  285109,  277520,  274140,  267140,  271847,  265247,\n",
       "         268726,  265244,  261489,  249579,  247386,  245497,  240451,\n",
       "         236073,  229995,  228634,  227159,  218102,  212727,  215002,\n",
       "        1020343,  205743,  203420,  199844,  193713,  211734,  206703,\n",
       "         203847,  209877,  200930, 2140269, 2271306, 2312927, 2320062,\n",
       "        2294357, 2375829, 2193409, 2162973, 2508543, 2433483, 2394635,\n",
       "        2384091, 2416393, 1738736, 2487734, 2538088, 2636488, 2698991,\n",
       "        2575696, 2507522, 2606523, 2930972, 2836033, 2688178, 3305695,\n",
       "        3656808, 5132746, 5234349, 4022624, 3195548, 4544040, 5912394,\n",
       "        4714446, 7624140, 5739613, 6161651, 4542937, 4796059, 5242577,\n",
       "        5387596, 3656809, 5931315, 5553117, 5929665, 3195549, 5588590,\n",
       "        5339735, 7573064, 5884003, 7220558, 7167854, 6605542, 5272231,\n",
       "        5586590, 4303503, 4440087, 3640903, 3705881, 2768632, 6358157], dtype=int32),\n",
       " 'SnapNum': array([99, 98, 97, 96, 95, 94, 93, 92, 91, 90, 89, 88, 87, 86, 85, 84, 83,\n",
       "        82, 81, 80, 79, 78, 77, 76, 75, 74, 73, 72, 71, 70, 69, 68, 67, 66,\n",
       "        65, 64, 63, 62, 61, 59, 58, 57, 56, 55, 54, 53, 52, 51, 50, 49, 48,\n",
       "        47, 46, 45, 44, 43, 42, 41, 40, 39, 38, 37, 36, 35, 34, 33, 32, 31,\n",
       "        30, 29, 28, 27, 26, 25, 24, 23, 22, 21, 20, 19, 18, 17, 16, 15, 14,\n",
       "        13, 12, 11, 10,  9,  8,  7, 21, 20, 19, 18, 17, 16, 15, 14, 13, 12,\n",
       "        11, 10,  9,  8,  7,  6,  5,  4,  3, 25], dtype=int16)}"
      ]
     },
     "execution_count": 20,
     "metadata": {},
     "output_type": "execute_result"
    }
   ],
   "source": [
    "host_tree"
   ]
  },
  {
   "cell_type": "code",
   "execution_count": null,
   "metadata": {},
   "outputs": [],
   "source": [
    "        current_host_id = host_subfind_id[current_snapshot - initial_snapshot]\n",
    "        current_mms_id = mms_subfind_id[current_snapshot - initial_snapshot]\n",
    "\n",
    "        position_data = pos_array_list[end_snapshot - current_snapshot]\n",
    "\n",
    "        current_host_position = position_data[current_host_id]\n",
    "        current_mms_position = position_data[current_mms_id]\n",
    "\n",
    "        distance = (current_host_position - current_mms_position)\n",
    "        xs.append(distance[0])\n",
    "        ys.append(distance[1])\n",
    "    \n",
    "    snapshots = np.arange(initial_snapshot, end_snapshot + 1)\n",
    "    plt.plot(xs, ys)\n",
    "    plt.xlabel('X Distance')\n",
    "    plt.ylabel('Y Distance')\n",
    "    plt.title('Distance between Host and MMS over Time')\n",
    "    plt.grid()\n",
    "    fig_name = f\"{i}.png\"\n",
    "    save_path = './'\n",
    "    os.makedirs(save_path, exist_ok=True)\n",
    "    plt.savefig(os.path.join(save_path, fig_name))\n",
    "    plt.close(\"all\")"
   ]
  }
 ],
 "metadata": {
  "kernelspec": {
   "display_name": "Python 3",
   "language": "python",
   "name": "python3"
  },
  "language_info": {
   "codemirror_mode": {
    "name": "ipython",
    "version": 3
   },
   "file_extension": ".py",
   "mimetype": "text/x-python",
   "name": "python",
   "nbconvert_exporter": "python",
   "pygments_lexer": "ipython3",
   "version": "3.6.7"
  }
 },
 "nbformat": 4,
 "nbformat_minor": 2
}
