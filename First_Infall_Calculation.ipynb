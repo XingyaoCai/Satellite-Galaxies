{
 "cells": [
  {
   "cell_type": "code",
   "execution_count": null,
   "metadata": {
    "vscode": {
     "languageId": "python"
    }
   },
   "outputs": [],
   "source": [
    "import os\n",
    "import gc\n",
    "from tqdm import tqdm\n",
    "import illustris_python as il\n",
    "import numpy as np\n",
    "import matplotlib.pyplot as plt\n",
    "import matplotlib as mpl\n",
    "from mpl_toolkits import mplot3d\n",
    "import math\n",
    "import h5py\n",
    "\n",
    "\n",
    "# %matplotlib widget\n",
    "basePath = \"./sims.TNG/TNG100-1/output\"\n",
    "\n",
    "initial_snapshot = 33\n",
    "end_snapshot = 99\n",
    "\n",
    "halos_fields = [\"GroupFirstSub\", \"GroupNsubs\", \"GroupMass\", \"GroupPos\"]\n",
    "subhalos_fields = [\"SubhaloGrNr\", \"SubhaloMass\", \"SubhaloPos\"]\n",
    "tree_fields = [\"SubfindID\", \"SnapNum\"]\n",
    "\n",
    "h = 0.6774  # km/Mpc\n",
    "\n",
    "m_dm = 4.5e-5  # E10M_Sum\n",
    "m_dm_h = m_dm * h\n",
    "\n",
    "Critial_Density = 1.27e-8  # E10M_Sum/kpc^3\n",
    "Critial_Density_h = Critial_Density / h**2  # E10M_Sum/(kpc/h)^3\n",
    "\n",
    "\n",
    "def Detect_Mkdir(Path):\n",
    "    if not (os.path.exists(Path)):\n",
    "        os.makedirs(Path)\n",
    "    return Path\n",
    "\n",
    "\n",
    "FilePath = Detect_Mkdir(os.path.join('./TNG100_Final_File'))\n",
    "Final_File_List = ['Halo_Array', 'Host_Array', 'MMS_Array', 'First_App_Snap_Array', 'First_App_Distance_Array',\n",
    "                   'Snap99_Distance_Array', 'Snap99_Radial_Velocity_Array', 'Snap99_Virial_Radius_Array', 'Is_First_Approach', 'Is_First_Infall']\n",
    "for filename in Final_File_List:\n",
    "    if os.path.exists(os.path.join(FilePath, filename)+'.npy'):\n",
    "        globals()[filename] = np.load(\n",
    "            (os.path.join(FilePath, filename)+'.npy'))\n"
   ]
  },
  {
   "cell_type": "code",
   "execution_count": null,
   "metadata": {
    "vscode": {
     "languageId": "python"
    }
   },
   "outputs": [],
   "source": [
    "def Calculate_Halo_Dict(halo_index, host_index, mms_index):\n",
    "    host_tree = il.sublink.loadTree(\n",
    "        basePath, end_snapshot, host_index, fields=tree_fields, onlyMPB=1\n",
    "    )\n",
    "    mms_tree = il.sublink.loadTree(\n",
    "        basePath, end_snapshot, mms_index, fields=tree_fields, onlyMPB=1\n",
    "    )\n",
    "\n",
    "    satellite_velocity_list = list()\n",
    "    host_mms_distance = list()\n",
    "    host_position_list = list()\n",
    "    mms_position_list = list()\n",
    "    for current_snapshot in range(initial_snapshot, end_snapshot + 1):\n",
    "        header = il.groupcat.loadHeader(basePath, current_snapshot)\n",
    "        scale_factor = header[\"Time\"]\n",
    "        #age = Age_Array[np.where(Snapshot_Array == current_snapshot)[0][0]]\n",
    "\n",
    "        host_subhalo_index = host_tree[\"SubfindID\"][\n",
    "            np.where(host_tree[\"SnapNum\"] == current_snapshot)[0]\n",
    "        ]\n",
    "        mms_subhalo_index = mms_tree[\"SubfindID\"][\n",
    "            np.where(mms_tree[\"SnapNum\"] == current_snapshot)[0]\n",
    "        ]\n",
    "\n",
    "        if len(mms_subhalo_index) == 0 or len(host_subhalo_index) == 0:\n",
    "            satellite_velocity_list.append(np.nan)\n",
    "            host_mms_distance.append(np.nan)\n",
    "            host_position_list.append(np.array([np.nan, np.nan, np.nan]))\n",
    "            mms_position_list.append(np.array([np.nan, np.nan, np.nan]))\n",
    "            continue\n",
    "\n",
    "        host_subhalo_dict = il.groupcat.loadSingle(\n",
    "            basePath, current_snapshot, -1, host_subhalo_index\n",
    "        )\n",
    "        mms_subhalo_dict = il.groupcat.loadSingle(\n",
    "            basePath, current_snapshot, -1, mms_subhalo_index\n",
    "        )\n",
    "\n",
    "        current_host_comoving_position = host_subhalo_dict[\"SubhaloPos\"]\n",
    "        current_mms_comoving_position = mms_subhalo_dict[\"SubhaloPos\"]\n",
    "\n",
    "        current_host_physical_position = current_host_comoving_position * scale_factor\n",
    "        current_mms_physical_position = current_mms_comoving_position * scale_factor\n",
    "\n",
    "        current_host_physical_position = current_host_physical_position % 35000\n",
    "        current_mms_physical_position = current_mms_physical_position % 35000\n",
    "\n",
    "        current_difference_physical_coordinates = (\n",
    "            current_mms_physical_position - current_host_physical_position\n",
    "        )\n",
    "        distance = np.linalg.norm(current_difference_physical_coordinates)\n",
    "\n",
    "        if len(host_mms_distance):\n",
    "            if np.abs(distance-host_mms_distance[-1])>60:\n",
    "                satellite_velocity_list.append(np.nan)\n",
    "                host_mms_distance.append(np.nan)\n",
    "                host_position_list.append(np.array([np.nan, np.nan, np.nan]))\n",
    "                mms_position_list.append(np.array([np.nan, np.nan, np.nan]))\n",
    "                continue\n",
    "\n",
    "        host_velocity = host_subhalo_dict[\"SubhaloVel\"]\n",
    "        mms_velocity = mms_subhalo_dict[\"SubhaloVel\"]\n",
    "\n",
    "        Vel_diff = mms_velocity - host_velocity\n",
    "        Vel_Radius = (\n",
    "            np.dot(Vel_diff, current_difference_physical_coordinates) / distance\n",
    "        )\n",
    "\n",
    "        satellite_velocity_list.append(Vel_Radius)\n",
    "        host_mms_distance.append(distance)\n",
    "\n",
    "        host_position_list.append(current_host_physical_position)\n",
    "        mms_position_list.append(current_mms_physical_position)\n",
    "\n",
    "        gc.collect()\n",
    "\n",
    "    del host_tree,mms_tree,header,scale_factor\n",
    "    del host_subhalo_dict,host_subhalo_index\n",
    "    del mms_subhalo_dict,mms_subhalo_index\n",
    "    del current_host_comoving_position,current_mms_comoving_position\n",
    "    del current_host_physical_position,current_mms_physical_position\n",
    "    del distance\n",
    "\n",
    "    satellite_radius_velocity = np.array(satellite_velocity_list)\n",
    "    host_mms_distance = np.array(host_mms_distance)\n",
    "    host_position_array = np.array(host_position_list)\n",
    "    mms_position_array = np.array(mms_position_list)\n",
    "\n",
    "    del satellite_velocity_list,host_position_list,mms_position_list\n",
    "\n",
    "    return_data = dict()\n",
    "\n",
    "    return_data[\"Host_Index\"] = host_index\n",
    "    return_data[\"MMS_Index\"] = mms_index\n",
    "    return_data[\"Halo_Index\"] = halo_index\n",
    "\n",
    "    return_data[\"RadialVelocity\"] = satellite_radius_velocity\n",
    "    return_data[\"Distance\"] = host_mms_distance\n",
    "    return_data[\"HostPosition\"] = host_position_array\n",
    "    return_data[\"MMSPosition\"] = mms_position_array\n",
    "    return_data[\"Snapshots\"] = np.arange(initial_snapshot, end_snapshot + 1)\n",
    "\n",
    "    del satellite_radius_velocity,host_mms_distance,host_position_array,mms_position_array\n",
    "    gc.collect()\n",
    "\n",
    "    return return_data\n"
   ]
  },
  {
   "cell_type": "code",
   "execution_count": 4,
   "metadata": {
    "vscode": {
     "languageId": "python"
    }
   },
   "outputs": [
    {
     "name": "stderr",
     "output_type": "stream",
     "text": [
      "100%|██████████| 4396/4396 [16:21:19<00:00, 13.39s/it]  \n"
     ]
    }
   ],
   "source": [
    "hdf5_File_Path='./APMS_TNG100_hdf5'\n",
    "\n",
    "start_sub_index = len(os.listdir(Detect_Mkdir(hdf5_File_Path)))-1\n",
    "step_length = Halo_Array.shape[0]+1\n",
    "end = start_sub_index+step_length\n",
    "\n",
    "if end > Halo_Array.shape[0]:\n",
    "    end = Halo_Array.shape[0]\n",
    "\n",
    "if start_sub_index<0: start_sub_index=0\n",
    "\n",
    "for Subindex in tqdm(range(start_sub_index, end)):\n",
    "    halo_index = Halo_Array[Subindex]\n",
    "    host_index = Host_Array[Subindex]\n",
    "    MMS_index = MMS_Array[Subindex]\n",
    "\n",
    "    halo_dict = Calculate_Halo_Dict(halo_index, host_index, MMS_index)\n",
    "\n",
    "    with h5py.File((os.path.join(hdf5_File_Path, 'Halo-'+str(halo_dict['Halo_Index']))+'.hdf5'), 'w') as f:\n",
    "        for key, value in halo_dict.items():\n",
    "            f.create_dataset(key, data=value)\n"
   ]
  },
  {
   "cell_type": "code",
   "execution_count": null,
   "metadata": {
    "vscode": {
     "languageId": "python"
    }
   },
   "outputs": [],
   "source": [
    "hdf5_files = [f for f in os.listdir(hdf5_File_Path) if f.endswith('.hdf5')]\n",
    "for file_name in hdf5_files:\n",
    "    with h5py.File(os.path.join(hdf5_File_Path, file_name), 'r') as f:\n",
    "            for key in f.keys():\n",
    "                globals()[key] = f[key][()]\n",
    "\n",
    "\n"
   ]
  },
  {
   "cell_type": "code",
   "execution_count": 5,
   "metadata": {
    "vscode": {
     "languageId": "python"
    }
   },
   "outputs": [
    {
     "data": {
      "text/plain": [
       "4396"
      ]
     },
     "execution_count": 5,
     "metadata": {},
     "output_type": "execute_result"
    }
   ],
   "source": [
    "len(os.listdir(hdf5_File_Path))\n"
   ]
  },
  {
   "cell_type": "code",
   "execution_count": 6,
   "metadata": {
    "vscode": {
     "languageId": "python"
    }
   },
   "outputs": [
    {
     "data": {
      "text/plain": [
       "262144"
      ]
     },
     "execution_count": 6,
     "metadata": {},
     "output_type": "execute_result"
    }
   ],
   "source": [
    "os.path.getsize(hdf5_File_Path)\n"
   ]
  },
  {
   "cell_type": "code",
   "execution_count": null,
   "metadata": {
    "vscode": {
     "languageId": "python"
    }
   },
   "outputs": [],
   "source": []
  }
 ],
 "metadata": {
  "kernelspec": {
   "display_name": "Python 3 (ipykernel)",
   "language": "python",
   "name": "python3"
  },
  "language_info": {
   "name": "",
   "version": ""
  }
 },
 "nbformat": 4,
 "nbformat_minor": 2
}
